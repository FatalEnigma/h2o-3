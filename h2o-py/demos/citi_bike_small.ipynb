{
 "cells": [
  {
   "cell_type": "code",
   "execution_count": 1,
   "metadata": {
    "collapsed": false,
    "scrolled": true
   },
   "outputs": [],
   "source": [
    "from __future__ import absolute_import, division, print_function, unicode_literals\n",
    "import h2o\n",
    "import time\n",
    "from h2o.estimators.glm import H2OGeneralizedLinearEstimator\n",
    "from h2o.estimators.gbm import H2OGradientBoostingEstimator\n",
    "from h2o.estimators.random_forest import H2ORandomForestEstimator\n",
    "from h2o.estimators.deeplearning import H2ODeepLearningEstimator"
   ]
  },
  {
   "cell_type": "code",
   "execution_count": 2,
   "metadata": {
    "collapsed": false
   },
   "outputs": [
    {
     "name": "stdout",
     "output_type": "stream",
     "text": [
      "Checking whether there is an H2O instance running at http://localhost:54321..... not found.\n",
      "Attempting to start a local H2O server...\n",
      "  Java Version: java version \"1.8.0_91\"; Java(TM) SE Runtime Environment (build 1.8.0_91-b14); Java HotSpot(TM) 64-Bit Server VM (build 25.91-b14, mixed mode)\n",
      "  Starting server from /Users/pasha/github/h2o-3/build/h2o.jar\n",
      "  Ice root: /var/folders/k9/mxm_jrl50m75kmgvdk9_wlh00000gp/T/tmpNO2RkW\n",
      "  JVM stdout: /var/folders/k9/mxm_jrl50m75kmgvdk9_wlh00000gp/T/tmpNO2RkW/h2o_pasha_started_from_python.out\n",
      "  JVM stderr: /var/folders/k9/mxm_jrl50m75kmgvdk9_wlh00000gp/T/tmpNO2RkW/h2o_pasha_started_from_python.err\n",
      "  Server is running at http://127.0.0.1:54321\n",
      "Connecting to H2O server at http://127.0.0.1:54321... successful.\n"
     ]
    }
   ],
   "source": [
    "# Explore a typical Data Science workflow with H2O and Python\n",
    "#\n",
    "# Goal: assist the manager of CitiBike of NYC to load-balance the bicycles\n",
    "# across the CitiBike network of stations, by predicting the number of bike\n",
    "# trips taken from the station every day.  Use 10 million rows of historical\n",
    "# data, and eventually add weather data.\n",
    "\n",
    "\n",
    "# Connect to a cluster\n",
    "h2o.init()"
   ]
  },
  {
   "cell_type": "code",
   "execution_count": 3,
   "metadata": {
    "collapsed": false
   },
   "outputs": [],
   "source": [
    "from h2o.utils.shared_utils import _locate # private function. used to find files within h2o git project directory.\n",
    "\n",
    "# Set this to True if you want to fetch the data directly from S3.\n",
    "# This is useful if your cluster is running in EC2.\n",
    "data_source_is_s3 = False\n",
    "\n",
    "def mylocate(s):\n",
    "    if data_source_is_s3:\n",
    "        return \"s3n://h2o-public-test-data/\" + s\n",
    "    else:\n",
    "        return _locate(s)"
   ]
  },
  {
   "cell_type": "code",
   "execution_count": 4,
   "metadata": {
    "collapsed": false
   },
   "outputs": [
    {
     "name": "stdout",
     "output_type": "stream",
     "text": [
      "Import and Parse bike data\n",
      "Parse progress: |█████████████████████████████████████████████████████████████████████████████| 100%\n"
     ]
    }
   ],
   "source": [
    "# Pick either the big or the small demo.\n",
    "# Big data is 10M rows\n",
    "small_test = [mylocate(\"bigdata/laptop/citibike-nyc/2013-10.csv\")]\n",
    "big_test =   [mylocate(\"bigdata/laptop/citibike-nyc/2013-07.csv\"),\n",
    "              mylocate(\"bigdata/laptop/citibike-nyc/2013-08.csv\"),\n",
    "              mylocate(\"bigdata/laptop/citibike-nyc/2013-09.csv\"),\n",
    "              mylocate(\"bigdata/laptop/citibike-nyc/2013-10.csv\"),\n",
    "              mylocate(\"bigdata/laptop/citibike-nyc/2013-11.csv\"),\n",
    "              mylocate(\"bigdata/laptop/citibike-nyc/2013-12.csv\"),\n",
    "              mylocate(\"bigdata/laptop/citibike-nyc/2014-01.csv\"),\n",
    "              mylocate(\"bigdata/laptop/citibike-nyc/2014-02.csv\"),\n",
    "              mylocate(\"bigdata/laptop/citibike-nyc/2014-03.csv\"),\n",
    "              mylocate(\"bigdata/laptop/citibike-nyc/2014-04.csv\"),\n",
    "              mylocate(\"bigdata/laptop/citibike-nyc/2014-05.csv\"),\n",
    "              mylocate(\"bigdata/laptop/citibike-nyc/2014-06.csv\"),\n",
    "              mylocate(\"bigdata/laptop/citibike-nyc/2014-07.csv\"),\n",
    "              mylocate(\"bigdata/laptop/citibike-nyc/2014-08.csv\")]\n",
    "\n",
    "# ----------\n",
    "\n",
    "# 1- Load data - 1 row per bicycle trip.  Has columns showing the start and end\n",
    "# station, trip duration and trip start time and day.  The larger dataset\n",
    "# totals about 10 million rows\n",
    "print(\"Import and Parse bike data\")\n",
    "data = h2o.import_file(path=small_test)"
   ]
  },
  {
   "cell_type": "code",
   "execution_count": 5,
   "metadata": {
    "collapsed": false
   },
   "outputs": [
    {
     "name": "stdout",
     "output_type": "stream",
     "text": [
      "Rows:1,037,712 Cols:16\n",
      "Chunk compression summary: \n"
     ]
    },
    {
     "data": {
      "text/html": [
       "<div style=\"overflow:auto\"><table style=\"width:50%\"><tr><td><b>chunk_type</b></td>\n",
       "<td><b>chunk_name</b></td>\n",
       "<td><b>count</b></td>\n",
       "<td><b>count_percentage</b></td>\n",
       "<td><b>size</b></td>\n",
       "<td><b>size_percentage</b></td></tr>\n",
       "<tr><td>C0L</td>\n",
       "<td>Constant Integers</td>\n",
       "<td>3</td>\n",
       "<td>0.5859375</td>\n",
       "<td>    240  B</td>\n",
       "<td>0.0003780</td></tr>\n",
       "<tr><td>CBS</td>\n",
       "<td>Bits</td>\n",
       "<td>32</td>\n",
       "<td>6.25</td>\n",
       "<td>  128.9 KB</td>\n",
       "<td>0.2078283</td></tr>\n",
       "<tr><td>C1N</td>\n",
       "<td>1-Byte Integers (w/o NAs)</td>\n",
       "<td>32</td>\n",
       "<td>6.25</td>\n",
       "<td> 1015.5 KB</td>\n",
       "<td>1.6376555</td></tr>\n",
       "<tr><td>C1S</td>\n",
       "<td>1-Byte Fractions</td>\n",
       "<td>61</td>\n",
       "<td>11.9140625</td>\n",
       "<td>    1.9 MB</td>\n",
       "<td>3.1233454</td></tr>\n",
       "<tr><td>C2</td>\n",
       "<td>2-Byte Integers</td>\n",
       "<td>160</td>\n",
       "<td>31.25</td>\n",
       "<td>    9.9 MB</td>\n",
       "<td>16.3594216</td></tr>\n",
       "<tr><td>C2S</td>\n",
       "<td>2-Byte Fractions</td>\n",
       "<td>10</td>\n",
       "<td>1.953125</td>\n",
       "<td>  634.3 KB</td>\n",
       "<td>1.0228260</td></tr>\n",
       "<tr><td>C4</td>\n",
       "<td>4-Byte Integers</td>\n",
       "<td>25</td>\n",
       "<td>4.8828125</td>\n",
       "<td>    3.1 MB</td>\n",
       "<td>5.1095314</td></tr>\n",
       "<tr><td>C4S</td>\n",
       "<td>4-Byte Fractions</td>\n",
       "<td>23</td>\n",
       "<td>4.4921875</td>\n",
       "<td>    2.8 MB</td>\n",
       "<td>4.7019318</td></tr>\n",
       "<tr><td>C8</td>\n",
       "<td>64-bit Integers</td>\n",
       "<td>61</td>\n",
       "<td>11.9140625</td>\n",
       "<td>   15.1 MB</td>\n",
       "<td>24.9282986</td></tr>\n",
       "<tr><td>C8D</td>\n",
       "<td>64-bit Reals</td>\n",
       "<td>105</td>\n",
       "<td>20.5078125</td>\n",
       "<td>   26.0 MB</td>\n",
       "<td>42.9087818</td></tr></table></div>"
      ],
      "text/plain": [
       "chunk_type    chunk_name                 count    count_percentage    size       size_percentage\n",
       "------------  -------------------------  -------  ------------------  ---------  -----------------\n",
       "C0L           Constant Integers          3        0.585938            240  B     0.000377961\n",
       "CBS           Bits                       32       6.25                128.9 KB   0.207828\n",
       "C1N           1-Byte Integers (w/o NAs)  32       6.25                1015.5 KB  1.63766\n",
       "C1S           1-Byte Fractions           61       11.9141             1.9 MB     3.12335\n",
       "C2            2-Byte Integers            160      31.25               9.9 MB     16.3594\n",
       "C2S           2-Byte Fractions           10       1.95312             634.3 KB   1.02283\n",
       "C4            4-Byte Integers            25       4.88281             3.1 MB     5.10953\n",
       "C4S           4-Byte Fractions           23       4.49219             2.8 MB     4.70193\n",
       "C8            64-bit Integers            61       11.9141             15.1 MB    24.9283\n",
       "C8D           64-bit Reals               105      20.5078             26.0 MB    42.9088"
      ]
     },
     "metadata": {},
     "output_type": "display_data"
    },
    {
     "name": "stdout",
     "output_type": "stream",
     "text": [
      "Frame distribution summary: \n"
     ]
    },
    {
     "data": {
      "text/html": [
       "<div style=\"overflow:auto\"><table style=\"width:50%\"><tr><td><b></b></td>\n",
       "<td><b>size</b></td>\n",
       "<td><b>number_of_rows</b></td>\n",
       "<td><b>number_of_chunks_per_column</b></td>\n",
       "<td><b>number_of_chunks</b></td></tr>\n",
       "<tr><td>127.0.0.1:54321</td>\n",
       "<td>   60.6 MB</td>\n",
       "<td>1037712.0</td>\n",
       "<td>32.0</td>\n",
       "<td>512.0</td></tr>\n",
       "<tr><td>mean</td>\n",
       "<td>   60.6 MB</td>\n",
       "<td>1037712.0</td>\n",
       "<td>32.0</td>\n",
       "<td>512.0</td></tr>\n",
       "<tr><td>min</td>\n",
       "<td>   60.6 MB</td>\n",
       "<td>1037712.0</td>\n",
       "<td>32.0</td>\n",
       "<td>512.0</td></tr>\n",
       "<tr><td>max</td>\n",
       "<td>   60.6 MB</td>\n",
       "<td>1037712.0</td>\n",
       "<td>32.0</td>\n",
       "<td>512.0</td></tr>\n",
       "<tr><td>stddev</td>\n",
       "<td>      0  B</td>\n",
       "<td>0.0</td>\n",
       "<td>0.0</td>\n",
       "<td>0.0</td></tr>\n",
       "<tr><td>total</td>\n",
       "<td>   60.6 MB</td>\n",
       "<td>1037712.0</td>\n",
       "<td>32.0</td>\n",
       "<td>512.0</td></tr></table></div>"
      ],
      "text/plain": [
       "                 size     number_of_rows    number_of_chunks_per_column    number_of_chunks\n",
       "---------------  -------  ----------------  -----------------------------  ------------------\n",
       "127.0.0.1:54321  60.6 MB  1.03771e+06       32                             512\n",
       "mean             60.6 MB  1.03771e+06       32                             512\n",
       "min              60.6 MB  1.03771e+06       32                             512\n",
       "max              60.6 MB  1.03771e+06       32                             512\n",
       "stddev           0  B     0                 0                              0\n",
       "total            60.6 MB  1.03771e+06       32                             512"
      ]
     },
     "metadata": {},
     "output_type": "display_data"
    },
    {
     "name": "stdout",
     "output_type": "stream",
     "text": [
      "\n",
      "\n"
     ]
    },
    {
     "data": {
      "text/html": [
       "<table>\n",
       "<tr><th>       </th><th>tripduration  </th><th>starttime        </th><th>stoptime         </th><th>start station id  </th><th>start station name      </th><th>start station latitude  </th><th>start station longitude  </th><th>end station id  </th><th>end station name              </th><th>end station latitude  </th><th>end station longitude  </th><th>bikeid       </th><th>usertype      </th><th>birth year   </th><th>gender        </th><th>Days         </th></tr>\n",
       "<tr><td>type   </td><td>int           </td><td>time             </td><td>time             </td><td>int               </td><td>enum                    </td><td>real                    </td><td>real                     </td><td>int             </td><td>enum                          </td><td>real                  </td><td>real                   </td><td>int          </td><td>enum          </td><td>int          </td><td>int           </td><td>int          </td></tr>\n",
       "<tr><td>mins   </td><td>60.0          </td><td>1.380610868e+12  </td><td>1.380611083e+12  </td><td>72.0              </td><td>0.0                     </td><td>40.680342423            </td><td>-74.01713445             </td><td>72.0            </td><td>0.0                           </td><td>40.680342423          </td><td>-74.01713445           </td><td>14529.0      </td><td>0.0           </td><td>1899.0       </td><td>0.0           </td><td>15979.0      </td></tr>\n",
       "<tr><td>mean   </td><td>825.614754383 </td><td>1.38191371692e+12</td><td>1.38191454253e+12</td><td>443.714212614     </td><td>NaN                     </td><td>40.7345188586           </td><td>-73.9911328848           </td><td>443.207421712   </td><td>NaN                           </td><td>40.7342847885         </td><td>-73.9912702982         </td><td>17644.0716451</td><td>0.906095332809</td><td>1975.77839486</td><td>1.12375591686 </td><td>15993.8523906</td></tr>\n",
       "<tr><td>maxs   </td><td>1259480.0     </td><td>1.383289197e+12  </td><td>1.38341851e+12   </td><td>3002.0            </td><td>329.0                   </td><td>40.770513               </td><td>-73.9500479759           </td><td>3002.0          </td><td>329.0                         </td><td>40.770513             </td><td>-73.9500479759         </td><td>20757.0      </td><td>1.0           </td><td>1997.0       </td><td>2.0           </td><td>16010.0      </td></tr>\n",
       "<tr><td>sigma  </td><td>2000.3732323  </td><td>778871729.132    </td><td>778847387.504    </td><td>354.434325075     </td><td>NaN                     </td><td>0.0195734073053         </td><td>0.0123161234106          </td><td>357.398217058   </td><td>NaN                           </td><td>0.0195578458116       </td><td>0.0123855811965        </td><td>1717.68112134</td><td>0.291696182123</td><td>11.1314906238</td><td>0.544380593291</td><td>9.02215033586</td></tr>\n",
       "<tr><td>zeros  </td><td>0             </td><td>0                </td><td>0                </td><td>0                 </td><td>5239                    </td><td>0                       </td><td>0                        </td><td>0               </td><td>5449                          </td><td>0                     </td><td>0                      </td><td>0            </td><td>97446         </td><td>0            </td><td>97498         </td><td>0            </td></tr>\n",
       "<tr><td>missing</td><td>0             </td><td>0                </td><td>0                </td><td>0                 </td><td>0                       </td><td>0                       </td><td>0                        </td><td>0               </td><td>0                             </td><td>0                     </td><td>0                      </td><td>0            </td><td>0             </td><td>97445        </td><td>0             </td><td>0            </td></tr>\n",
       "<tr><td>0      </td><td>326.0         </td><td>1.380610868e+12  </td><td>1.380611194e+12  </td><td>239.0             </td><td>Willoughby St & Fleet St</td><td>40.69196566             </td><td>-73.9813018              </td><td>366.0           </td><td>Clinton Ave & Myrtle Ave      </td><td>40.693261             </td><td>-73.968896             </td><td>16052.0      </td><td>Subscriber    </td><td>1982.0       </td><td>1.0           </td><td>15979.0      </td></tr>\n",
       "<tr><td>1      </td><td>729.0         </td><td>1.380610881e+12  </td><td>1.38061161e+12   </td><td>322.0             </td><td>Clinton St & Tillary St </td><td>40.696192               </td><td>-73.991218               </td><td>398.0           </td><td>Atlantic Ave & Furman St      </td><td>40.69165183           </td><td>-73.9999786            </td><td>19412.0      </td><td>Customer      </td><td>nan          </td><td>0.0           </td><td>15979.0      </td></tr>\n",
       "<tr><td>2      </td><td>520.0         </td><td>1.380610884e+12  </td><td>1.380611404e+12  </td><td>174.0             </td><td>E 25 St & 1 Ave         </td><td>40.7381765              </td><td>-73.97738662             </td><td>403.0           </td><td>E 2 St & 2 Ave                </td><td>40.72502876           </td><td>-73.99069656           </td><td>19645.0      </td><td>Subscriber    </td><td>1984.0       </td><td>1.0           </td><td>15979.0      </td></tr>\n",
       "<tr><td>3      </td><td>281.0         </td><td>1.380610885e+12  </td><td>1.380611166e+12  </td><td>430.0             </td><td>York St & Jay St        </td><td>40.7014851              </td><td>-73.98656928             </td><td>323.0           </td><td>Lawrence St & Willoughby St   </td><td>40.69236178           </td><td>-73.98631746           </td><td>16992.0      </td><td>Subscriber    </td><td>1985.0       </td><td>1.0           </td><td>15979.0      </td></tr>\n",
       "<tr><td>4      </td><td>196.0         </td><td>1.380610887e+12  </td><td>1.380611083e+12  </td><td>403.0             </td><td>E 2 St & 2 Ave          </td><td>40.72502876             </td><td>-73.99069656             </td><td>401.0           </td><td>Allen St & Rivington St       </td><td>40.72019576           </td><td>-73.98997825           </td><td>15690.0      </td><td>Subscriber    </td><td>1986.0       </td><td>1.0           </td><td>15979.0      </td></tr>\n",
       "<tr><td>5      </td><td>1948.0        </td><td>1.380610908e+12  </td><td>1.380612856e+12  </td><td>369.0             </td><td>Washington Pl & 6 Ave   </td><td>40.73224119             </td><td>-74.00026394             </td><td>307.0           </td><td>Canal St & Rutgers St         </td><td>40.71427487           </td><td>-73.98990025           </td><td>19846.0      </td><td>Subscriber    </td><td>1977.0       </td><td>1.0           </td><td>15979.0      </td></tr>\n",
       "<tr><td>6      </td><td>1327.0        </td><td>1.380610908e+12  </td><td>1.380612235e+12  </td><td>254.0             </td><td>W 11 St & 6 Ave         </td><td>40.73532427             </td><td>-73.99800419             </td><td>539.0           </td><td>Metropolitan Ave & Bedford Ave</td><td>40.71534825           </td><td>-73.96024116           </td><td>14563.0      </td><td>Subscriber    </td><td>1986.0       </td><td>2.0           </td><td>15979.0      </td></tr>\n",
       "<tr><td>7      </td><td>1146.0        </td><td>1.380610917e+12  </td><td>1.380612063e+12  </td><td>490.0             </td><td>8 Ave & W 33 St         </td><td>40.751551               </td><td>-73.993934               </td><td>438.0           </td><td>St Marks Pl & 1 Ave           </td><td>40.72779126           </td><td>-73.98564945           </td><td>16793.0      </td><td>Subscriber    </td><td>1959.0       </td><td>1.0           </td><td>15979.0      </td></tr>\n",
       "<tr><td>8      </td><td>380.0         </td><td>1.380610918e+12  </td><td>1.380611298e+12  </td><td>468.0             </td><td>Broadway & W 55 St      </td><td>40.7652654              </td><td>-73.98192338             </td><td>385.0           </td><td>E 55 St & 2 Ave               </td><td>40.75797322           </td><td>-73.96603308           </td><td>16600.0      </td><td>Customer      </td><td>nan          </td><td>0.0           </td><td>15979.0      </td></tr>\n",
       "<tr><td>9      </td><td>682.0         </td><td>1.380610925e+12  </td><td>1.380611607e+12  </td><td>300.0             </td><td>Shevchenko Pl & E 6 St  </td><td>40.728145               </td><td>-73.990214               </td><td>519.0           </td><td>Pershing Square N             </td><td>40.75188406           </td><td>-73.97770164           </td><td>15204.0      </td><td>Subscriber    </td><td>1992.0       </td><td>1.0           </td><td>15979.0      </td></tr>\n",
       "</table>"
      ]
     },
     "metadata": {},
     "output_type": "display_data"
    }
   ],
   "source": [
    "# ----------\n",
    "\n",
    "# 2- light data munging: group the bike starts per-day, converting the 10M rows\n",
    "# of trips to about 140,000 station&day combos - predicting the number of trip\n",
    "# starts per-station-per-day.\n",
    "\n",
    "# Convert start time to: Day since the Epoch\n",
    "startime = data[\"starttime\"]\n",
    "secsPerDay = 1000 * 60 * 60 * 24\n",
    "data[\"Days\"] = (startime / secsPerDay).floor()\n",
    "data.describe()"
   ]
  },
  {
   "cell_type": "code",
   "execution_count": 6,
   "metadata": {
    "collapsed": false
   },
   "outputs": [
    {
     "data": {
      "text/html": [
       "<table>\n",
       "<tr><th style=\"text-align: right;\">  Days</th><th>start station name     </th><th style=\"text-align: right;\">  bikes</th></tr>\n",
       "<tr><td style=\"text-align: right;\"> 15979</td><td>1 Ave & E 15 St        </td><td style=\"text-align: right;\">     97</td></tr>\n",
       "<tr><td style=\"text-align: right;\"> 15979</td><td>1 Ave & E 18 St        </td><td style=\"text-align: right;\">     75</td></tr>\n",
       "<tr><td style=\"text-align: right;\"> 15979</td><td>1 Ave & E 30 St        </td><td style=\"text-align: right;\">    113</td></tr>\n",
       "<tr><td style=\"text-align: right;\"> 15979</td><td>10 Ave & W 28 St       </td><td style=\"text-align: right;\">     74</td></tr>\n",
       "<tr><td style=\"text-align: right;\"> 15979</td><td>11 Ave & W 27 St       </td><td style=\"text-align: right;\">    139</td></tr>\n",
       "<tr><td style=\"text-align: right;\"> 15979</td><td>11 Ave & W 41 St       </td><td style=\"text-align: right;\">     60</td></tr>\n",
       "<tr><td style=\"text-align: right;\"> 15979</td><td>12 Ave & W 40 St       </td><td style=\"text-align: right;\">     90</td></tr>\n",
       "<tr><td style=\"text-align: right;\"> 15979</td><td>2 Ave & E 31 St        </td><td style=\"text-align: right;\">     88</td></tr>\n",
       "<tr><td style=\"text-align: right;\"> 15979</td><td>2 Ave & E 58 St        </td><td style=\"text-align: right;\">     55</td></tr>\n",
       "<tr><td style=\"text-align: right;\"> 15979</td><td>3 Ave & Schermerhorn St</td><td style=\"text-align: right;\">      8</td></tr>\n",
       "</table>"
      ]
     },
     "metadata": {},
     "output_type": "display_data"
    },
    {
     "name": "stdout",
     "output_type": "stream",
     "text": [
      "Rows:10,450 Cols:3\n",
      "Chunk compression summary: \n"
     ]
    },
    {
     "data": {
      "text/html": [
       "<div style=\"overflow:auto\"><table style=\"width:50%\"><tr><td><b>chunk_type</b></td>\n",
       "<td><b>chunk_name</b></td>\n",
       "<td><b>count</b></td>\n",
       "<td><b>count_percentage</b></td>\n",
       "<td><b>size</b></td>\n",
       "<td><b>size_percentage</b></td></tr>\n",
       "<tr><td>C0L</td>\n",
       "<td>Constant Integers</td>\n",
       "<td>1</td>\n",
       "<td>1.0416667</td>\n",
       "<td>     80  B</td>\n",
       "<td>0.1364815</td></tr>\n",
       "<tr><td>C1N</td>\n",
       "<td>1-Byte Integers (w/o NAs)</td>\n",
       "<td>1</td>\n",
       "<td>1.0416667</td>\n",
       "<td>    412  B</td>\n",
       "<td>0.7028798</td></tr>\n",
       "<tr><td>C1S</td>\n",
       "<td>1-Byte Fractions</td>\n",
       "<td>31</td>\n",
       "<td>32.2916657</td>\n",
       "<td>   12.4 KB</td>\n",
       "<td>21.7142075</td></tr>\n",
       "<tr><td>C2</td>\n",
       "<td>2-Byte Integers</td>\n",
       "<td>63</td>\n",
       "<td>65.625</td>\n",
       "<td>   44.3 KB</td>\n",
       "<td>77.4464309</td></tr></table></div>"
      ],
      "text/plain": [
       "chunk_type    chunk_name                 count    count_percentage    size     size_percentage\n",
       "------------  -------------------------  -------  ------------------  -------  -----------------\n",
       "C0L           Constant Integers          1        1.04167             80  B    0.136482\n",
       "C1N           1-Byte Integers (w/o NAs)  1        1.04167             412  B   0.70288\n",
       "C1S           1-Byte Fractions           31       32.2917             12.4 KB  21.7142\n",
       "C2            2-Byte Integers            63       65.625              44.3 KB  77.4464"
      ]
     },
     "metadata": {},
     "output_type": "display_data"
    },
    {
     "name": "stdout",
     "output_type": "stream",
     "text": [
      "Frame distribution summary: \n"
     ]
    },
    {
     "data": {
      "text/html": [
       "<div style=\"overflow:auto\"><table style=\"width:50%\"><tr><td><b></b></td>\n",
       "<td><b>size</b></td>\n",
       "<td><b>number_of_rows</b></td>\n",
       "<td><b>number_of_chunks_per_column</b></td>\n",
       "<td><b>number_of_chunks</b></td></tr>\n",
       "<tr><td>127.0.0.1:54321</td>\n",
       "<td>   57.2 KB</td>\n",
       "<td>10450.0</td>\n",
       "<td>32.0</td>\n",
       "<td>96.0</td></tr>\n",
       "<tr><td>mean</td>\n",
       "<td>   57.2 KB</td>\n",
       "<td>10450.0</td>\n",
       "<td>32.0</td>\n",
       "<td>96.0</td></tr>\n",
       "<tr><td>min</td>\n",
       "<td>   57.2 KB</td>\n",
       "<td>10450.0</td>\n",
       "<td>32.0</td>\n",
       "<td>96.0</td></tr>\n",
       "<tr><td>max</td>\n",
       "<td>   57.2 KB</td>\n",
       "<td>10450.0</td>\n",
       "<td>32.0</td>\n",
       "<td>96.0</td></tr>\n",
       "<tr><td>stddev</td>\n",
       "<td>      0  B</td>\n",
       "<td>0.0</td>\n",
       "<td>0.0</td>\n",
       "<td>0.0</td></tr>\n",
       "<tr><td>total</td>\n",
       "<td>   57.2 KB</td>\n",
       "<td>10450.0</td>\n",
       "<td>32.0</td>\n",
       "<td>96.0</td></tr></table></div>"
      ],
      "text/plain": [
       "                 size     number_of_rows    number_of_chunks_per_column    number_of_chunks\n",
       "---------------  -------  ----------------  -----------------------------  ------------------\n",
       "127.0.0.1:54321  57.2 KB  10450             32                             96\n",
       "mean             57.2 KB  10450             32                             96\n",
       "min              57.2 KB  10450             32                             96\n",
       "max              57.2 KB  10450             32                             96\n",
       "stddev           0  B     0                 0                              0\n",
       "total            57.2 KB  10450             32                             96"
      ]
     },
     "metadata": {},
     "output_type": "display_data"
    },
    {
     "name": "stdout",
     "output_type": "stream",
     "text": [
      "\n",
      "\n"
     ]
    },
    {
     "data": {
      "text/html": [
       "<table>\n",
       "<tr><th>       </th><th>Days         </th><th>start station name     </th><th>bikes        </th></tr>\n",
       "<tr><td>type   </td><td>int          </td><td>enum                   </td><td>int          </td></tr>\n",
       "<tr><td>mins   </td><td>15979.0      </td><td>0.0                    </td><td>1.0          </td></tr>\n",
       "<tr><td>mean   </td><td>15994.4415311</td><td>NaN                    </td><td>99.3025837321</td></tr>\n",
       "<tr><td>maxs   </td><td>16010.0      </td><td>329.0                  </td><td>553.0        </td></tr>\n",
       "<tr><td>sigma  </td><td>9.23370172444</td><td>NaN                    </td><td>72.9721964301</td></tr>\n",
       "<tr><td>zeros  </td><td>0            </td><td>32                     </td><td>0            </td></tr>\n",
       "<tr><td>missing</td><td>0            </td><td>0                      </td><td>0            </td></tr>\n",
       "<tr><td>0      </td><td>15979.0      </td><td>1 Ave & E 15 St        </td><td>97.0         </td></tr>\n",
       "<tr><td>1      </td><td>15979.0      </td><td>1 Ave & E 18 St        </td><td>75.0         </td></tr>\n",
       "<tr><td>2      </td><td>15979.0      </td><td>1 Ave & E 30 St        </td><td>113.0        </td></tr>\n",
       "<tr><td>3      </td><td>15979.0      </td><td>10 Ave & W 28 St       </td><td>74.0         </td></tr>\n",
       "<tr><td>4      </td><td>15979.0      </td><td>11 Ave & W 27 St       </td><td>139.0        </td></tr>\n",
       "<tr><td>5      </td><td>15979.0      </td><td>11 Ave & W 41 St       </td><td>60.0         </td></tr>\n",
       "<tr><td>6      </td><td>15979.0      </td><td>12 Ave & W 40 St       </td><td>90.0         </td></tr>\n",
       "<tr><td>7      </td><td>15979.0      </td><td>2 Ave & E 31 St        </td><td>88.0         </td></tr>\n",
       "<tr><td>8      </td><td>15979.0      </td><td>2 Ave & E 58 St        </td><td>55.0         </td></tr>\n",
       "<tr><td>9      </td><td>15979.0      </td><td>3 Ave & Schermerhorn St</td><td>8.0          </td></tr>\n",
       "</table>"
      ]
     },
     "metadata": {},
     "output_type": "display_data"
    },
    {
     "data": {
      "text/plain": [
       "[10450, 3]"
      ]
     },
     "execution_count": 6,
     "metadata": {},
     "output_type": "execute_result"
    }
   ],
   "source": [
    "# Now do a monster Group-By.  Count bike starts per-station per-day.  Ends up\n",
    "# with about 340 stations times 400 days (140,000 rows).  This is what we want\n",
    "# to predict.\n",
    "grouped = data.group_by([\"Days\", \"start station name\"])\n",
    "bpd = grouped.count().get_frame()  # Compute bikes-per-day\n",
    "bpd.set_name(2, \"bikes\")\n",
    "bpd.show()\n",
    "bpd.describe()\n",
    "bpd.dim"
   ]
  },
  {
   "cell_type": "code",
   "execution_count": 7,
   "metadata": {
    "collapsed": false
   },
   "outputs": [
    {
     "name": "stdout",
     "output_type": "stream",
     "text": [
      "Quantiles of bikes-per-day\n"
     ]
    },
    {
     "data": {
      "text/html": [
       "<table>\n",
       "<tr><th style=\"text-align: right;\">  Probs</th><th style=\"text-align: right;\">  bikesQuantiles</th></tr>\n",
       "<tr><td style=\"text-align: right;\">  0.01 </td><td style=\"text-align: right;\">            4.49</td></tr>\n",
       "<tr><td style=\"text-align: right;\">  0.1  </td><td style=\"text-align: right;\">           19   </td></tr>\n",
       "<tr><td style=\"text-align: right;\">  0.25 </td><td style=\"text-align: right;\">           43   </td></tr>\n",
       "<tr><td style=\"text-align: right;\">  0.333</td><td style=\"text-align: right;\">           57   </td></tr>\n",
       "<tr><td style=\"text-align: right;\">  0.5  </td><td style=\"text-align: right;\">           87   </td></tr>\n",
       "<tr><td style=\"text-align: right;\">  0.667</td><td style=\"text-align: right;\">          118   </td></tr>\n",
       "<tr><td style=\"text-align: right;\">  0.75 </td><td style=\"text-align: right;\">          137   </td></tr>\n",
       "<tr><td style=\"text-align: right;\">  0.9  </td><td style=\"text-align: right;\">          192   </td></tr>\n",
       "<tr><td style=\"text-align: right;\">  0.99 </td><td style=\"text-align: right;\">          334.51</td></tr>\n",
       "</table>"
      ]
     },
     "metadata": {},
     "output_type": "display_data"
    }
   ],
   "source": [
    "# Quantiles: the data is fairly unbalanced; some station/day combos are wildly\n",
    "# more popular than others.\n",
    "print(\"Quantiles of bikes-per-day\")\n",
    "bpd[\"bikes\"].quantile().show()"
   ]
  },
  {
   "cell_type": "code",
   "execution_count": 8,
   "metadata": {
    "collapsed": false
   },
   "outputs": [
    {
     "name": "stdout",
     "output_type": "stream",
     "text": [
      "Bikes-Per-Day\n",
      "Rows:10,450 Cols:5\n",
      "Chunk compression summary: \n"
     ]
    },
    {
     "data": {
      "text/html": [
       "<div style=\"overflow:auto\"><table style=\"width:50%\"><tr><td><b>chunk_type</b></td>\n",
       "<td><b>chunk_name</b></td>\n",
       "<td><b>count</b></td>\n",
       "<td><b>count_percentage</b></td>\n",
       "<td><b>size</b></td>\n",
       "<td><b>size_percentage</b></td></tr>\n",
       "<tr><td>C0L</td>\n",
       "<td>Constant Integers</td>\n",
       "<td>33</td>\n",
       "<td>20.6249997</td>\n",
       "<td>    2.6 KB</td>\n",
       "<td>3.7012111</td></tr>\n",
       "<tr><td>CBS</td>\n",
       "<td>Bits</td>\n",
       "<td>6</td>\n",
       "<td>3.7500001</td>\n",
       "<td>    666  B</td>\n",
       "<td>0.9337147</td></tr>\n",
       "<tr><td>CXI</td>\n",
       "<td>Zero Sparse Integers</td>\n",
       "<td>4</td>\n",
       "<td>2.5000000</td>\n",
       "<td>    800  B</td>\n",
       "<td>1.1215792</td></tr>\n",
       "<tr><td>C1N</td>\n",
       "<td>1-Byte Integers (w/o NAs)</td>\n",
       "<td>23</td>\n",
       "<td>14.3749997</td>\n",
       "<td>    8.9 KB</td>\n",
       "<td>12.7551585</td></tr>\n",
       "<tr><td>C1S</td>\n",
       "<td>1-Byte Fractions</td>\n",
       "<td>31</td>\n",
       "<td>19.3749994</td>\n",
       "<td>   12.4 KB</td>\n",
       "<td>17.8443253</td></tr>\n",
       "<tr><td>C2</td>\n",
       "<td>2-Byte Integers</td>\n",
       "<td>63</td>\n",
       "<td>39.3750012</td>\n",
       "<td>   44.3 KB</td>\n",
       "<td>63.6440098</td></tr></table></div>"
      ],
      "text/plain": [
       "chunk_type    chunk_name                 count    count_percentage    size     size_percentage\n",
       "------------  -------------------------  -------  ------------------  -------  -----------------\n",
       "C0L           Constant Integers          33       20.625              2.6 KB   3.70121\n",
       "CBS           Bits                       6        3.75                666  B   0.933715\n",
       "CXI           Zero Sparse Integers       4        2.5                 800  B   1.12158\n",
       "C1N           1-Byte Integers (w/o NAs)  23       14.375              8.9 KB   12.7552\n",
       "C1S           1-Byte Fractions           31       19.375              12.4 KB  17.8443\n",
       "C2            2-Byte Integers            63       39.375              44.3 KB  63.644"
      ]
     },
     "metadata": {},
     "output_type": "display_data"
    },
    {
     "name": "stdout",
     "output_type": "stream",
     "text": [
      "Frame distribution summary: \n"
     ]
    },
    {
     "data": {
      "text/html": [
       "<div style=\"overflow:auto\"><table style=\"width:50%\"><tr><td><b></b></td>\n",
       "<td><b>size</b></td>\n",
       "<td><b>number_of_rows</b></td>\n",
       "<td><b>number_of_chunks_per_column</b></td>\n",
       "<td><b>number_of_chunks</b></td></tr>\n",
       "<tr><td>127.0.0.1:54321</td>\n",
       "<td>   69.7 KB</td>\n",
       "<td>10450.0</td>\n",
       "<td>32.0</td>\n",
       "<td>160.0</td></tr>\n",
       "<tr><td>mean</td>\n",
       "<td>   69.7 KB</td>\n",
       "<td>10450.0</td>\n",
       "<td>32.0</td>\n",
       "<td>160.0</td></tr>\n",
       "<tr><td>min</td>\n",
       "<td>   69.7 KB</td>\n",
       "<td>10450.0</td>\n",
       "<td>32.0</td>\n",
       "<td>160.0</td></tr>\n",
       "<tr><td>max</td>\n",
       "<td>   69.7 KB</td>\n",
       "<td>10450.0</td>\n",
       "<td>32.0</td>\n",
       "<td>160.0</td></tr>\n",
       "<tr><td>stddev</td>\n",
       "<td>      0  B</td>\n",
       "<td>0.0</td>\n",
       "<td>0.0</td>\n",
       "<td>0.0</td></tr>\n",
       "<tr><td>total</td>\n",
       "<td>   69.7 KB</td>\n",
       "<td>10450.0</td>\n",
       "<td>32.0</td>\n",
       "<td>160.0</td></tr></table></div>"
      ],
      "text/plain": [
       "                 size     number_of_rows    number_of_chunks_per_column    number_of_chunks\n",
       "---------------  -------  ----------------  -----------------------------  ------------------\n",
       "127.0.0.1:54321  69.7 KB  10450             32                             160\n",
       "mean             69.7 KB  10450             32                             160\n",
       "min              69.7 KB  10450             32                             160\n",
       "max              69.7 KB  10450             32                             160\n",
       "stddev           0  B     0                 0                              0\n",
       "total            69.7 KB  10450             32                             160"
      ]
     },
     "metadata": {},
     "output_type": "display_data"
    },
    {
     "name": "stdout",
     "output_type": "stream",
     "text": [
      "\n",
      "\n"
     ]
    },
    {
     "data": {
      "text/html": [
       "<table>\n",
       "<tr><th>       </th><th>Days         </th><th>start station name     </th><th>bikes        </th><th>Month         </th><th>DayOfWeek  </th></tr>\n",
       "<tr><td>type   </td><td>int          </td><td>enum                   </td><td>int          </td><td>enum          </td><td>enum       </td></tr>\n",
       "<tr><td>mins   </td><td>15979.0      </td><td>0.0                    </td><td>1.0          </td><td>0.0           </td><td>0.0        </td></tr>\n",
       "<tr><td>mean   </td><td>15994.4415311</td><td>NaN                    </td><td>99.3025837321</td><td>0.968612440191</td><td>NaN        </td></tr>\n",
       "<tr><td>maxs   </td><td>16010.0      </td><td>329.0                  </td><td>553.0        </td><td>1.0           </td><td>6.0        </td></tr>\n",
       "<tr><td>sigma  </td><td>9.23370172444</td><td>NaN                    </td><td>72.9721964301</td><td>0.174371128617</td><td>NaN        </td></tr>\n",
       "<tr><td>zeros  </td><td>0            </td><td>32                     </td><td>0            </td><td>328           </td><td>1635       </td></tr>\n",
       "<tr><td>missing</td><td>0            </td><td>0                      </td><td>0            </td><td>0             </td><td>0          </td></tr>\n",
       "<tr><td>0      </td><td>15979.0      </td><td>1 Ave & E 15 St        </td><td>97.0         </td><td>9             </td><td>Mon        </td></tr>\n",
       "<tr><td>1      </td><td>15979.0      </td><td>1 Ave & E 18 St        </td><td>75.0         </td><td>9             </td><td>Mon        </td></tr>\n",
       "<tr><td>2      </td><td>15979.0      </td><td>1 Ave & E 30 St        </td><td>113.0        </td><td>9             </td><td>Mon        </td></tr>\n",
       "<tr><td>3      </td><td>15979.0      </td><td>10 Ave & W 28 St       </td><td>74.0         </td><td>9             </td><td>Mon        </td></tr>\n",
       "<tr><td>4      </td><td>15979.0      </td><td>11 Ave & W 27 St       </td><td>139.0        </td><td>9             </td><td>Mon        </td></tr>\n",
       "<tr><td>5      </td><td>15979.0      </td><td>11 Ave & W 41 St       </td><td>60.0         </td><td>9             </td><td>Mon        </td></tr>\n",
       "<tr><td>6      </td><td>15979.0      </td><td>12 Ave & W 40 St       </td><td>90.0         </td><td>9             </td><td>Mon        </td></tr>\n",
       "<tr><td>7      </td><td>15979.0      </td><td>2 Ave & E 31 St        </td><td>88.0         </td><td>9             </td><td>Mon        </td></tr>\n",
       "<tr><td>8      </td><td>15979.0      </td><td>2 Ave & E 58 St        </td><td>55.0         </td><td>9             </td><td>Mon        </td></tr>\n",
       "<tr><td>9      </td><td>15979.0      </td><td>3 Ave & Schermerhorn St</td><td>8.0          </td><td>9             </td><td>Mon        </td></tr>\n",
       "</table>"
      ]
     },
     "metadata": {},
     "output_type": "display_data"
    }
   ],
   "source": [
    "# A little feature engineering\n",
    "# Add in month-of-year (seasonality; fewer bike rides in winter than summer)\n",
    "secs = bpd[\"Days\"] * secsPerDay\n",
    "bpd[\"Month\"] = secs.month().asfactor()\n",
    "# Add in day-of-week (work-week; more bike rides on Sunday than Monday)\n",
    "bpd[\"DayOfWeek\"] = secs.dayOfWeek()\n",
    "print(\"Bikes-Per-Day\")\n",
    "bpd.describe()"
   ]
  },
  {
   "cell_type": "code",
   "execution_count": 9,
   "metadata": {
    "collapsed": false
   },
   "outputs": [],
   "source": [
    "# ----------\n",
    "# 3- Fit a model on train; using test as validation\n",
    "\n",
    "# Function for doing class test/train/holdout split\n",
    "def split_fit_predict(data):\n",
    "    # Classic Test/Train split\n",
    "    r = data[\"Days\"].runif()   # Random uniform numbers, one per row\n",
    "    train = data[r < 0.6]\n",
    "    test = data[(0.6 <= r) & (r < 0.9)]\n",
    "    hold = data[0.9 <= r]\n",
    "    print(\"Training data has %d columns and %d rows, test has %d rows, holdout has %d\"\n",
    "          % (train.ncol, train.nrow, test.nrow, hold.nrow))\n",
    "    bike_names_x = list(data.names)  # make a copy of the array\n",
    "    bike_names_x.remove(\"bikes\")\n",
    "\n",
    "    # Run GBM\n",
    "    s = time.time()\n",
    "    gbm0 = H2OGradientBoostingEstimator(ntrees=500, max_depth=6, learn_rate=0.1)\n",
    "    gbm0.train(x=bike_names_x, y=\"bikes\", training_frame=train, validation_frame=test)\n",
    "    gbm0_elapsed = time.time() - s\n",
    "\n",
    "    # Run DRF\n",
    "    s = time.time()\n",
    "    drf0 = H2ORandomForestEstimator(ntrees=250, max_depth=30)\n",
    "    drf0.train(x=bike_names_x, y=\"bikes\", training_frame=train, validation_frame=test)\n",
    "    drf0_elapsed = time.time() - s\n",
    "\n",
    "    # Run GLM\n",
    "    if \"WC1\" in bike_names_x: bike_names_x.remove(\"WC1\")\n",
    "    s = time.time()\n",
    "    glm0 = H2OGeneralizedLinearEstimator(Lambda=[1e-5], family=\"poisson\")\n",
    "    glm0.train(x=bike_names_x, y=\"bikes\", training_frame=train, validation_frame=test)\n",
    "    glm0_elapsed = time.time() - s\n",
    "\n",
    "    # Run DL\n",
    "    s = time.time()\n",
    "    dl0 = H2ODeepLearningEstimator(hidden=[50, 50, 50, 50], epochs=50)\n",
    "    dl0.train(x=bike_names_x, y=\"bikes\", training_frame=train, validation_frame=test)\n",
    "    dl0_elapsed = time.time() - s\n",
    "\n",
    "    # ----------\n",
    "    # 4- Score on holdout set & report\n",
    "    train_mse_gbm = gbm0.model_performance(train).mse()\n",
    "    test_mse_gbm = gbm0.model_performance(test).mse()\n",
    "    hold_mse_gbm = gbm0.model_performance(hold).mse()\n",
    "\n",
    "    train_mse_drf = drf0.model_performance(train).mse()\n",
    "    test_mse_drf = drf0.model_performance(test).mse()\n",
    "    hold_mse_drf = drf0.model_performance(hold).mse()\n",
    "\n",
    "    train_mse_glm = glm0.model_performance(train).mse()\n",
    "    test_mse_glm = glm0.model_performance(test).mse()\n",
    "    hold_mse_glm = glm0.model_performance(hold).mse()\n",
    "\n",
    "    train_mse_dl = dl0.model_performance(train).mse()\n",
    "    test_mse_dl = dl0.model_performance(test).mse()\n",
    "    hold_mse_dl = dl0.model_performance(hold).mse()\n",
    "\n",
    "    # make a pretty HTML table printout of the results\n",
    "    header = [\"Model\", \"mse TRAIN\", \"mse TEST\", \"mse HOLDOUT\", \"Model Training Time (s)\"]\n",
    "    table = [[\"GBM\", train_mse_gbm, test_mse_gbm, hold_mse_gbm, round(gbm0_elapsed, 3)],\n",
    "             [\"DRF\", train_mse_drf, test_mse_drf, hold_mse_drf, round(drf0_elapsed, 3)],\n",
    "             [\"GLM\", train_mse_glm, test_mse_glm, hold_mse_glm, round(glm0_elapsed, 3)],\n",
    "             [\"DL\",  train_mse_dl,  test_mse_dl,  hold_mse_dl,  round(dl0_elapsed, 3)]]\n",
    "    h2o.display.H2ODisplay(table, header)\n",
    "    # --------------"
   ]
  },
  {
   "cell_type": "code",
   "execution_count": 10,
   "metadata": {
    "collapsed": false
   },
   "outputs": [
    {
     "name": "stdout",
     "output_type": "stream",
     "text": [
      "Training data has 5 columns and 6312 rows, test has 3147 rows, holdout has 991\n",
      "gbm Model Build progress: |███████████████████████████████████████████████████████████████████| 100%\n",
      "drf Model Build progress: |███████████████████████████████████████████████████████████████████| 100%\n",
      "glm Model Build progress: |███████████████████████████████████████████████████████████████████| 100%\n",
      "deeplearning Model Build progress: |██████████████████████████████████████████████████████████| 100%\n"
     ]
    },
    {
     "data": {
      "text/html": [
       "<div style=\"overflow:auto\"><table style=\"width:50%\"><tr><td><b>Model</b></td>\n",
       "<td><b>mse TRAIN</b></td>\n",
       "<td><b>mse TEST</b></td>\n",
       "<td><b>mse HOLDOUT</b></td>\n",
       "<td><b>Model Training Time (s)</b></td></tr>\n",
       "<tr><td>GBM</td>\n",
       "<td>18.2451569</td>\n",
       "<td>440.5341361</td>\n",
       "<td>475.3214778</td>\n",
       "<td>9.546</td></tr>\n",
       "<tr><td>DRF</td>\n",
       "<td>1605.0238113</td>\n",
       "<td>1756.6302562</td>\n",
       "<td>1683.2403756</td>\n",
       "<td>4.68</td></tr>\n",
       "<tr><td>GLM</td>\n",
       "<td>742.5558651</td>\n",
       "<td>838.2359921</td>\n",
       "<td>855.4683499</td>\n",
       "<td>1.309</td></tr>\n",
       "<tr><td>DL</td>\n",
       "<td>265.7244577</td>\n",
       "<td>572.4409667</td>\n",
       "<td>540.2203839</td>\n",
       "<td>7.511</td></tr></table></div>"
      ],
      "text/plain": [
       "Model      mse TRAIN    mse TEST    mse HOLDOUT    Model Training Time (s)\n",
       "-------  -----------  ----------  -------------  -------------------------\n",
       "GBM          18.2452     440.534        475.321                      9.546\n",
       "DRF        1605.02      1756.63        1683.24                       4.68\n",
       "GLM         742.556      838.236        855.468                      1.309\n",
       "DL          265.724      572.441        540.22                       7.511"
      ]
     },
     "metadata": {},
     "output_type": "display_data"
    }
   ],
   "source": [
    "# Split the data (into test & train), fit some models and predict on the holdout data\n",
    "split_fit_predict(bpd)\n",
    "# Here we see an r^2 of 0.91 for GBM, and 0.71 for GLM.  This means given just\n",
    "# the station, the month, and the day-of-week we can predict 90% of the\n",
    "# variance of the bike-trip-starts."
   ]
  },
  {
   "cell_type": "code",
   "execution_count": 11,
   "metadata": {
    "collapsed": false
   },
   "outputs": [
    {
     "name": "stdout",
     "output_type": "stream",
     "text": [
      "Parse progress: |█████████████████████████████████████████████████████████████████████████████| 100%\n",
      "Rows:17,520 Cols:50\n",
      "Chunk compression summary: \n"
     ]
    },
    {
     "data": {
      "text/html": [
       "<div style=\"overflow:auto\"><table style=\"width:50%\"><tr><td><b>chunk_type</b></td>\n",
       "<td><b>chunk_name</b></td>\n",
       "<td><b>count</b></td>\n",
       "<td><b>count_percentage</b></td>\n",
       "<td><b>size</b></td>\n",
       "<td><b>size_percentage</b></td></tr>\n",
       "<tr><td>C0L</td>\n",
       "<td>Constant Integers</td>\n",
       "<td>104</td>\n",
       "<td>6.3030303</td>\n",
       "<td>    8.1 KB</td>\n",
       "<td>0.9701639</td></tr>\n",
       "<tr><td>C0D</td>\n",
       "<td>Constant Reals</td>\n",
       "<td>423</td>\n",
       "<td>25.6363630</td>\n",
       "<td>   33.0 KB</td>\n",
       "<td>3.9459553</td></tr>\n",
       "<tr><td>CXI</td>\n",
       "<td>Zero Sparse Integers</td>\n",
       "<td>28</td>\n",
       "<td>1.6969698</td>\n",
       "<td>    4.9 KB</td>\n",
       "<td>0.5881619</td></tr>\n",
       "<tr><td>C1</td>\n",
       "<td>1-Byte Integers</td>\n",
       "<td>76</td>\n",
       "<td>4.6060607</td>\n",
       "<td>   44.8 KB</td>\n",
       "<td>5.3543255</td></tr>\n",
       "<tr><td>C1N</td>\n",
       "<td>1-Byte Integers (w/o NAs)</td>\n",
       "<td>196</td>\n",
       "<td>11.8787877</td>\n",
       "<td>  114.9 KB</td>\n",
       "<td>13.7193084</td></tr>\n",
       "<tr><td>C1S</td>\n",
       "<td>1-Byte Fractions</td>\n",
       "<td>169</td>\n",
       "<td>10.2424242</td>\n",
       "<td>  100.5 KB</td>\n",
       "<td>11.9952843</td></tr>\n",
       "<tr><td>C2S</td>\n",
       "<td>2-Byte Fractions</td>\n",
       "<td>156</td>\n",
       "<td>9.4545454</td>\n",
       "<td>  173.9 KB</td>\n",
       "<td>20.7652405</td></tr>\n",
       "<tr><td>C4S</td>\n",
       "<td>4-Byte Fractions</td>\n",
       "<td>124</td>\n",
       "<td>7.5151518</td>\n",
       "<td>  268.6 KB</td>\n",
       "<td>32.0695162</td></tr>\n",
       "<tr><td>CNAXI</td>\n",
       "<td>NA Sparse Integers</td>\n",
       "<td>261</td>\n",
       "<td>15.8181816</td>\n",
       "<td>   40.0 KB</td>\n",
       "<td>4.7731601</td></tr>\n",
       "<tr><td>CNAXD</td>\n",
       "<td>NA Sparse Reals</td>\n",
       "<td>113</td>\n",
       "<td>6.8484850</td>\n",
       "<td>   48.7 KB</td>\n",
       "<td>5.8188848</td></tr></table></div>"
      ],
      "text/plain": [
       "chunk_type    chunk_name                 count    count_percentage    size      size_percentage\n",
       "------------  -------------------------  -------  ------------------  --------  -----------------\n",
       "C0L           Constant Integers          104      6.30303             8.1 KB    0.970164\n",
       "C0D           Constant Reals             423      25.6364             33.0 KB   3.94596\n",
       "CXI           Zero Sparse Integers       28       1.69697             4.9 KB    0.588162\n",
       "C1            1-Byte Integers            76       4.60606             44.8 KB   5.35433\n",
       "C1N           1-Byte Integers (w/o NAs)  196      11.8788             114.9 KB  13.7193\n",
       "C1S           1-Byte Fractions           169      10.2424             100.5 KB  11.9953\n",
       "C2S           2-Byte Fractions           156      9.45455             173.9 KB  20.7652\n",
       "C4S           4-Byte Fractions           124      7.51515             268.6 KB  32.0695\n",
       "CNAXI         NA Sparse Integers         261      15.8182             40.0 KB   4.77316\n",
       "CNAXD         NA Sparse Reals            113      6.84849             48.7 KB   5.81888"
      ]
     },
     "metadata": {},
     "output_type": "display_data"
    },
    {
     "name": "stdout",
     "output_type": "stream",
     "text": [
      "Frame distribution summary: \n"
     ]
    },
    {
     "data": {
      "text/html": [
       "<div style=\"overflow:auto\"><table style=\"width:50%\"><tr><td><b></b></td>\n",
       "<td><b>size</b></td>\n",
       "<td><b>number_of_rows</b></td>\n",
       "<td><b>number_of_chunks_per_column</b></td>\n",
       "<td><b>number_of_chunks</b></td></tr>\n",
       "<tr><td>127.0.0.1:54321</td>\n",
       "<td>  837.5 KB</td>\n",
       "<td>17520.0</td>\n",
       "<td>33.0</td>\n",
       "<td>1650.0</td></tr>\n",
       "<tr><td>mean</td>\n",
       "<td>  837.5 KB</td>\n",
       "<td>17520.0</td>\n",
       "<td>33.0</td>\n",
       "<td>1650.0</td></tr>\n",
       "<tr><td>min</td>\n",
       "<td>  837.5 KB</td>\n",
       "<td>17520.0</td>\n",
       "<td>33.0</td>\n",
       "<td>1650.0</td></tr>\n",
       "<tr><td>max</td>\n",
       "<td>  837.5 KB</td>\n",
       "<td>17520.0</td>\n",
       "<td>33.0</td>\n",
       "<td>1650.0</td></tr>\n",
       "<tr><td>stddev</td>\n",
       "<td>      0  B</td>\n",
       "<td>0.0</td>\n",
       "<td>0.0</td>\n",
       "<td>0.0</td></tr>\n",
       "<tr><td>total</td>\n",
       "<td>  837.5 KB</td>\n",
       "<td>17520.0</td>\n",
       "<td>33.0</td>\n",
       "<td>1650.0</td></tr></table></div>"
      ],
      "text/plain": [
       "                 size      number_of_rows    number_of_chunks_per_column    number_of_chunks\n",
       "---------------  --------  ----------------  -----------------------------  ------------------\n",
       "127.0.0.1:54321  837.5 KB  17520             33                             1650\n",
       "mean             837.5 KB  17520             33                             1650\n",
       "min              837.5 KB  17520             33                             1650\n",
       "max              837.5 KB  17520             33                             1650\n",
       "stddev           0  B      0                 0                              0\n",
       "total            837.5 KB  17520             33                             1650"
      ]
     },
     "metadata": {},
     "output_type": "display_data"
    },
    {
     "name": "stdout",
     "output_type": "stream",
     "text": [
      "\n",
      "\n"
     ]
    },
    {
     "data": {
      "text/html": [
       "<table>\n",
       "<tr><th>       </th><th>Year Local    </th><th>Month Local  </th><th>Day Local    </th><th>Hour Local   </th><th>Year UTC      </th><th>Month UTC    </th><th>Day UTC      </th><th>Hour UTC     </th><th>Cavok Reported  </th><th>Cloud Ceiling (m)  </th><th>Cloud Cover Fraction  </th><th>Cloud Cover Fraction 1  </th><th>Cloud Cover Fraction 2  </th><th>Cloud Cover Fraction 3  </th><th>Cloud Cover Fraction 4  </th><th>Cloud Cover Fraction 5  </th><th>Cloud Cover Fraction 6  </th><th>Cloud Height (m) 1  </th><th>Cloud Height (m) 2  </th><th>Cloud Height (m) 3  </th><th>Cloud Height (m) 4  </th><th>Cloud Height (m) 5  </th><th>Cloud Height (m) 6  </th><th>Dew Point (C)  </th><th>Humidity Fraction  </th><th>Precipitation One Hour (mm)  </th><th>Pressure Altimeter (mbar)  </th><th>Pressure Sea Level (mbar)  </th><th>Pressure Station (mbar)  </th><th>Snow Depth (cm)  </th><th>Temperature (C)  </th><th>Visibility (km)  </th><th>Weather Code 1  </th><th>Weather Code 1/ Description  </th><th>Weather Code 2  </th><th>Weather Code 2/ Description  </th><th>Weather Code 3  </th><th>Weather Code 3/ Description  </th><th>Weather Code 4  </th><th>Weather Code 4/ Description  </th><th>Weather Code 5  </th><th>Weather Code 5/ Description  </th><th>Weather Code 6  </th><th>Weather Code 6/ Description  </th><th>Weather Code Most Severe / Icon Code  </th><th>Weather Code Most Severe  </th><th>Weather Code Most Severe / Description  </th><th>Wind Direction (degrees)  </th><th>Wind Gust (m/s)  </th><th>Wind Speed (m/s)  </th></tr>\n",
       "<tr><td>type   </td><td>int           </td><td>int          </td><td>int          </td><td>int          </td><td>int           </td><td>int          </td><td>int          </td><td>int          </td><td>int             </td><td>real               </td><td>real                  </td><td>real                    </td><td>real                    </td><td>real                    </td><td>int                     </td><td>int                     </td><td>int                     </td><td>real                </td><td>real                </td><td>real                </td><td>int                 </td><td>int                 </td><td>int                 </td><td>real           </td><td>real               </td><td>real                         </td><td>real                       </td><td>int                        </td><td>int                      </td><td>int              </td><td>real             </td><td>real             </td><td>int             </td><td>enum                         </td><td>int             </td><td>enum                         </td><td>int             </td><td>enum                         </td><td>int             </td><td>enum                         </td><td>int             </td><td>enum                         </td><td>int             </td><td>enum                         </td><td>int                                   </td><td>int                       </td><td>enum                                    </td><td>int                       </td><td>real             </td><td>real              </td></tr>\n",
       "<tr><td>mins   </td><td>2013.0        </td><td>1.0          </td><td>1.0          </td><td>0.0          </td><td>2013.0        </td><td>1.0          </td><td>1.0          </td><td>0.0          </td><td>0.0             </td><td>61.0               </td><td>0.0                   </td><td>0.0                     </td><td>0.25                    </td><td>0.5                     </td><td>NaN                     </td><td>NaN                     </td><td>NaN                     </td><td>60.96               </td><td>213.36              </td><td>365.76              </td><td>NaN                 </td><td>NaN                 </td><td>NaN                 </td><td>-26.7          </td><td>0.1251             </td><td>0.0                          </td><td>983.2949                   </td><td>NaN                        </td><td>NaN                      </td><td>NaN              </td><td>-15.6            </td><td>0.001            </td><td>1.0             </td><td>0.0                          </td><td>1.0             </td><td>0.0                          </td><td>1.0             </td><td>0.0                          </td><td>1.0             </td><td>0.0                          </td><td>1.0             </td><td>0.0                          </td><td>3.0             </td><td>0.0                          </td><td>0.0                                   </td><td>1.0                       </td><td>0.0                                     </td><td>10.0                      </td><td>7.2              </td><td>0.0               </td></tr>\n",
       "<tr><td>mean   </td><td>2013.5        </td><td>6.52602739726</td><td>15.7205479452</td><td>11.5         </td><td>2013.50057078 </td><td>6.52511415525</td><td>15.721347032 </td><td>11.5001141553</td><td>0.0             </td><td>1306.31195846      </td><td>0.416742490522        </td><td>0.361207349081          </td><td>0.872445384073          </td><td>0.963045685279          </td><td>0.0                     </td><td>0.0                     </td><td>0.0                     </td><td>1293.9822682        </td><td>1643.73900166       </td><td>2084.89386376       </td><td>0.0                 </td><td>0.0                 </td><td>0.0                 </td><td>4.31304646766  </td><td>0.596736389159     </td><td>1.37993010753                </td><td>1017.82581441              </td><td>0.0                        </td><td>0.0                      </td><td>0.0              </td><td>12.5789090701    </td><td>14.3914429682    </td><td>4.84251968504   </td><td>NaN                          </td><td>3.65867689358   </td><td>NaN                          </td><td>2.84660766962   </td><td>NaN                          </td><td>2.01149425287   </td><td>NaN                          </td><td>4.125           </td><td>NaN                          </td><td>3.0             </td><td>0.0                          </td><td>1.37848173516                         </td><td>4.84251968504             </td><td>NaN                                     </td><td>194.69525682              </td><td>9.42216948073    </td><td>2.41032887849     </td></tr>\n",
       "<tr><td>maxs   </td><td>2014.0        </td><td>12.0         </td><td>31.0         </td><td>23.0         </td><td>2015.0        </td><td>12.0         </td><td>31.0         </td><td>23.0         </td><td>0.0             </td><td>3657.6             </td><td>1.0                   </td><td>1.0                     </td><td>1.0                     </td><td>1.0                     </td><td>NaN                     </td><td>NaN                     </td><td>NaN                     </td><td>3657.5999           </td><td>3657.5999           </td><td>3657.5999           </td><td>NaN                 </td><td>NaN                 </td><td>NaN                 </td><td>24.4           </td><td>1.0                </td><td>26.924                       </td><td>1042.2113                  </td><td>NaN                        </td><td>NaN                      </td><td>NaN              </td><td>36.1             </td><td>16.0934          </td><td>60.0            </td><td>11.0                         </td><td>60.0            </td><td>10.0                         </td><td>36.0            </td><td>7.0                          </td><td>27.0            </td><td>4.0                          </td><td>27.0            </td><td>2.0                          </td><td>3.0             </td><td>0.0                          </td><td>16.0                                  </td><td>60.0                      </td><td>11.0                                    </td><td>360.0                     </td><td>20.58            </td><td>10.8              </td></tr>\n",
       "<tr><td>sigma  </td><td>0.500014270017</td><td>3.44794972385</td><td>8.79649804852</td><td>6.92238411188</td><td>0.500584411716</td><td>3.44782405458</td><td>8.79561488868</td><td>6.92230165203</td><td>0.0             </td><td>995.339856966      </td><td>0.462720830993        </td><td>0.42770569708           </td><td>0.197155690367          </td><td>0.0861015598104         </td><td>-0.0                    </td><td>-0.0                    </td><td>-0.0                    </td><td>962.743095854       </td><td>916.73861349        </td><td>887.215847511       </td><td>-0.0                </td><td>-0.0                </td><td>-0.0                </td><td>10.9731282097  </td><td>0.185792011866     </td><td>2.56215129179                </td><td>7.46451697179              </td><td>-0.0                       </td><td>-0.0                     </td><td>-0.0             </td><td>10.0396739531    </td><td>3.69893623033    </td><td>5.70486576983   </td><td>NaN                          </td><td>6.13386253912   </td><td>NaN                          </td><td>5.80553286364   </td><td>NaN                          </td><td>3.12340844261   </td><td>NaN                          </td><td>6.15223536611   </td><td>NaN                          </td><td>0.0             </td><td>0.0                          </td><td>4.07386062702                         </td><td>5.70486576983             </td><td>NaN                                     </td><td>106.350000031             </td><td>1.81511871115    </td><td>1.61469790524     </td></tr>\n",
       "<tr><td>zeros  </td><td>0             </td><td>0            </td><td>0            </td><td>730          </td><td>0             </td><td>0            </td><td>0            </td><td>730          </td><td>17455           </td><td>0                  </td><td>8758                  </td><td>8758                    </td><td>0                       </td><td>0                       </td><td>0                       </td><td>0                       </td><td>0                       </td><td>0                   </td><td>0                   </td><td>0                   </td><td>0                   </td><td>0                   </td><td>0                   </td><td>268            </td><td>0                  </td><td>501                          </td><td>0                          </td><td>0                          </td><td>0                        </td><td>0                </td><td>269              </td><td>0                </td><td>0               </td><td>17                           </td><td>0               </td><td>30                           </td><td>0               </td><td>13                           </td><td>0               </td><td>20                           </td><td>0               </td><td>12                           </td><td>0               </td><td>2                            </td><td>14980                                 </td><td>0                         </td><td>17                                      </td><td>0                         </td><td>0                </td><td>2768              </td></tr>\n",
       "<tr><td>missing</td><td>0             </td><td>0            </td><td>0            </td><td>0            </td><td>0             </td><td>0            </td><td>0            </td><td>0            </td><td>65              </td><td>10780              </td><td>375                   </td><td>375                     </td><td>14682                   </td><td>16535                   </td><td>17520                   </td><td>17520                   </td><td>17520                   </td><td>9103                </td><td>14683               </td><td>16535               </td><td>17520               </td><td>17520               </td><td>17520               </td><td>67             </td><td>67                 </td><td>15660                        </td><td>360                        </td><td>17520                      </td><td>17520                    </td><td>17520            </td><td>67               </td><td>412              </td><td>14980           </td><td>14980                        </td><td>16477           </td><td>16477                        </td><td>17181           </td><td>17181                        </td><td>17433           </td><td>17433                        </td><td>17504           </td><td>17504                        </td><td>17518           </td><td>17518                        </td><td>0                                     </td><td>14980                     </td><td>14980                                   </td><td>9382                      </td><td>14381            </td><td>1283              </td></tr>\n",
       "<tr><td>0      </td><td>2013.0        </td><td>1.0          </td><td>1.0          </td><td>0.0          </td><td>2013.0        </td><td>1.0          </td><td>1.0          </td><td>5.0          </td><td>0.0             </td><td>2895.6             </td><td>1.0                   </td><td>0.9                     </td><td>1.0                     </td><td>nan                     </td><td>nan                     </td><td>nan                     </td><td>nan                     </td><td>2895.5999           </td><td>3352.8              </td><td>nan                 </td><td>nan                 </td><td>nan                 </td><td>nan                 </td><td>-5.0           </td><td>0.5447             </td><td>nan                          </td><td>1013.0917                  </td><td>nan                        </td><td>nan                      </td><td>nan              </td><td>3.3              </td><td>16.0934          </td><td>nan             </td><td>                             </td><td>nan             </td><td>                             </td><td>nan             </td><td>                             </td><td>nan             </td><td>                             </td><td>nan             </td><td>                             </td><td>nan             </td><td>                             </td><td>0.0                                   </td><td>nan                       </td><td>                                        </td><td>nan                       </td><td>nan              </td><td>2.57              </td></tr>\n",
       "<tr><td>1      </td><td>2013.0        </td><td>1.0          </td><td>1.0          </td><td>1.0          </td><td>2013.0        </td><td>1.0          </td><td>1.0          </td><td>6.0          </td><td>0.0             </td><td>3048.0             </td><td>1.0                   </td><td>1.0                     </td><td>nan                     </td><td>nan                     </td><td>nan                     </td><td>nan                     </td><td>nan                     </td><td>3048.0              </td><td>nan                 </td><td>nan                 </td><td>nan                 </td><td>nan                 </td><td>nan                 </td><td>-4.4           </td><td>0.5463             </td><td>nan                          </td><td>1012.0759                  </td><td>nan                        </td><td>nan                      </td><td>nan              </td><td>3.9              </td><td>16.0934          </td><td>nan             </td><td>                             </td><td>nan             </td><td>                             </td><td>nan             </td><td>                             </td><td>nan             </td><td>                             </td><td>nan             </td><td>                             </td><td>nan             </td><td>                             </td><td>0.0                                   </td><td>nan                       </td><td>                                        </td><td>260.0                     </td><td>9.77             </td><td>4.63              </td></tr>\n",
       "<tr><td>2      </td><td>2013.0        </td><td>1.0          </td><td>1.0          </td><td>2.0          </td><td>2013.0        </td><td>1.0          </td><td>1.0          </td><td>7.0          </td><td>0.0             </td><td>1828.8             </td><td>1.0                   </td><td>1.0                     </td><td>nan                     </td><td>nan                     </td><td>nan                     </td><td>nan                     </td><td>nan                     </td><td>1828.7999           </td><td>nan                 </td><td>nan                 </td><td>nan                 </td><td>nan                 </td><td>nan                 </td><td>-3.3           </td><td>0.619              </td><td>nan                          </td><td>1012.4145                  </td><td>nan                        </td><td>nan                      </td><td>nan              </td><td>3.3              </td><td>16.0934          </td><td>nan             </td><td>                             </td><td>nan             </td><td>                             </td><td>nan             </td><td>                             </td><td>nan             </td><td>                             </td><td>nan             </td><td>                             </td><td>nan             </td><td>                             </td><td>0.0                                   </td><td>nan                       </td><td>                                        </td><td>nan                       </td><td>7.72             </td><td>1.54              </td></tr>\n",
       "<tr><td>3      </td><td>2013.0        </td><td>1.0          </td><td>1.0          </td><td>3.0          </td><td>2013.0        </td><td>1.0          </td><td>1.0          </td><td>8.0          </td><td>0.0             </td><td>1463.0             </td><td>1.0                   </td><td>1.0                     </td><td>nan                     </td><td>nan                     </td><td>nan                     </td><td>nan                     </td><td>nan                     </td><td>1463.04             </td><td>nan                 </td><td>nan                 </td><td>nan                 </td><td>nan                 </td><td>nan                 </td><td>-2.8           </td><td>0.6159             </td><td>nan                          </td><td>1012.4145                  </td><td>nan                        </td><td>nan                      </td><td>nan              </td><td>3.9              </td><td>16.0934          </td><td>nan             </td><td>                             </td><td>nan             </td><td>                             </td><td>nan             </td><td>                             </td><td>nan             </td><td>                             </td><td>nan             </td><td>                             </td><td>nan             </td><td>                             </td><td>0.0                                   </td><td>nan                       </td><td>                                        </td><td>nan                       </td><td>nan              </td><td>3.09              </td></tr>\n",
       "<tr><td>4      </td><td>2013.0        </td><td>1.0          </td><td>1.0          </td><td>4.0          </td><td>2013.0        </td><td>1.0          </td><td>1.0          </td><td>9.0          </td><td>0.0             </td><td>1402.1             </td><td>1.0                   </td><td>1.0                     </td><td>nan                     </td><td>nan                     </td><td>nan                     </td><td>nan                     </td><td>nan                     </td><td>1402.08             </td><td>nan                 </td><td>nan                 </td><td>nan                 </td><td>nan                 </td><td>nan                 </td><td>-2.8           </td><td>0.6159             </td><td>nan                          </td><td>1012.7531                  </td><td>nan                        </td><td>nan                      </td><td>nan              </td><td>3.9              </td><td>16.0934          </td><td>nan             </td><td>                             </td><td>nan             </td><td>                             </td><td>nan             </td><td>                             </td><td>nan             </td><td>                             </td><td>nan             </td><td>                             </td><td>nan             </td><td>                             </td><td>0.0                                   </td><td>nan                       </td><td>                                        </td><td>260.0                     </td><td>nan              </td><td>4.12              </td></tr>\n",
       "<tr><td>5      </td><td>2013.0        </td><td>1.0          </td><td>1.0          </td><td>5.0          </td><td>2013.0        </td><td>1.0          </td><td>1.0          </td><td>10.0         </td><td>0.0             </td><td>1524.0             </td><td>1.0                   </td><td>1.0                     </td><td>nan                     </td><td>nan                     </td><td>nan                     </td><td>nan                     </td><td>nan                     </td><td>1524.0              </td><td>nan                 </td><td>nan                 </td><td>nan                 </td><td>nan                 </td><td>nan                 </td><td>-2.8           </td><td>0.6159             </td><td>nan                          </td><td>1012.4145                  </td><td>nan                        </td><td>nan                      </td><td>nan              </td><td>3.9              </td><td>16.0934          </td><td>nan             </td><td>                             </td><td>nan             </td><td>                             </td><td>nan             </td><td>                             </td><td>nan             </td><td>                             </td><td>nan             </td><td>                             </td><td>nan             </td><td>                             </td><td>0.0                                   </td><td>nan                       </td><td>                                        </td><td>nan                       </td><td>nan              </td><td>3.09              </td></tr>\n",
       "<tr><td>6      </td><td>2013.0        </td><td>1.0          </td><td>1.0          </td><td>6.0          </td><td>2013.0        </td><td>1.0          </td><td>1.0          </td><td>11.0         </td><td>0.0             </td><td>1524.0             </td><td>1.0                   </td><td>1.0                     </td><td>nan                     </td><td>nan                     </td><td>nan                     </td><td>nan                     </td><td>nan                     </td><td>1524.0              </td><td>nan                 </td><td>nan                 </td><td>nan                 </td><td>nan                 </td><td>nan                 </td><td>-3.3           </td><td>0.5934             </td><td>nan                          </td><td>1012.0759                  </td><td>nan                        </td><td>nan                      </td><td>nan              </td><td>3.9              </td><td>16.0934          </td><td>nan             </td><td>                             </td><td>nan             </td><td>                             </td><td>nan             </td><td>                             </td><td>nan             </td><td>                             </td><td>nan             </td><td>                             </td><td>nan             </td><td>                             </td><td>0.0                                   </td><td>nan                       </td><td>                                        </td><td>nan                       </td><td>9.26             </td><td>3.09              </td></tr>\n",
       "<tr><td>7      </td><td>2013.0        </td><td>1.0          </td><td>1.0          </td><td>7.0          </td><td>2013.0        </td><td>1.0          </td><td>1.0          </td><td>12.0         </td><td>0.0             </td><td>1524.0             </td><td>1.0                   </td><td>1.0                     </td><td>nan                     </td><td>nan                     </td><td>nan                     </td><td>nan                     </td><td>nan                     </td><td>1524.0              </td><td>nan                 </td><td>nan                 </td><td>nan                 </td><td>nan                 </td><td>nan                 </td><td>-3.3           </td><td>0.5934             </td><td>nan                          </td><td>1012.4145                  </td><td>nan                        </td><td>nan                      </td><td>nan              </td><td>3.9              </td><td>16.0934          </td><td>nan             </td><td>                             </td><td>nan             </td><td>                             </td><td>nan             </td><td>                             </td><td>nan             </td><td>                             </td><td>nan             </td><td>                             </td><td>nan             </td><td>                             </td><td>0.0                                   </td><td>nan                       </td><td>                                        </td><td>260.0                     </td><td>9.26             </td><td>4.63              </td></tr>\n",
       "<tr><td>8      </td><td>2013.0        </td><td>1.0          </td><td>1.0          </td><td>8.0          </td><td>2013.0        </td><td>1.0          </td><td>1.0          </td><td>13.0         </td><td>0.0             </td><td>1524.0             </td><td>1.0                   </td><td>1.0                     </td><td>nan                     </td><td>nan                     </td><td>nan                     </td><td>nan                     </td><td>nan                     </td><td>1524.0              </td><td>nan                 </td><td>nan                 </td><td>nan                 </td><td>nan                 </td><td>nan                 </td><td>-2.8           </td><td>0.6425             </td><td>nan                          </td><td>1012.4145                  </td><td>nan                        </td><td>nan                      </td><td>nan              </td><td>3.3              </td><td>16.0934          </td><td>nan             </td><td>                             </td><td>nan             </td><td>                             </td><td>nan             </td><td>                             </td><td>nan             </td><td>                             </td><td>nan             </td><td>                             </td><td>nan             </td><td>                             </td><td>0.0                                   </td><td>nan                       </td><td>                                        </td><td>260.0                     </td><td>nan              </td><td>3.09              </td></tr>\n",
       "<tr><td>9      </td><td>2013.0        </td><td>1.0          </td><td>1.0          </td><td>9.0          </td><td>2013.0        </td><td>1.0          </td><td>1.0          </td><td>14.0         </td><td>0.0             </td><td>1524.0             </td><td>1.0                   </td><td>0.9                     </td><td>1.0                     </td><td>nan                     </td><td>nan                     </td><td>nan                     </td><td>nan                     </td><td>1524.0              </td><td>3657.5999           </td><td>nan                 </td><td>nan                 </td><td>nan                 </td><td>nan                 </td><td>-2.8           </td><td>0.6159             </td><td>nan                          </td><td>1012.4145                  </td><td>nan                        </td><td>nan                      </td><td>nan              </td><td>3.9              </td><td>16.0934          </td><td>nan             </td><td>                             </td><td>nan             </td><td>                             </td><td>nan             </td><td>                             </td><td>nan             </td><td>                             </td><td>nan             </td><td>                             </td><td>nan             </td><td>                             </td><td>0.0                                   </td><td>nan                       </td><td>                                        </td><td>nan                       </td><td>9.26             </td><td>3.09              </td></tr>\n",
       "</table>"
      ]
     },
     "metadata": {},
     "output_type": "display_data"
    }
   ],
   "source": [
    "# ----------\n",
    "# 5- Now lets add some weather\n",
    "# Load weather data\n",
    "wthr1 = h2o.import_file(path=[mylocate(\"bigdata/laptop/citibike-nyc/31081_New_York_City__Hourly_2013.csv\"),\n",
    "                              mylocate(\"bigdata/laptop/citibike-nyc/31081_New_York_City__Hourly_2014.csv\")])\n",
    "# Peek at the data\n",
    "wthr1.describe()"
   ]
  },
  {
   "cell_type": "code",
   "execution_count": 12,
   "metadata": {
    "collapsed": false
   },
   "outputs": [
    {
     "name": "stdout",
     "output_type": "stream",
     "text": [
      "Rows:17,520 Cols:9\n",
      "Chunk compression summary: \n"
     ]
    },
    {
     "data": {
      "text/html": [
       "<div style=\"overflow:auto\"><table style=\"width:50%\"><tr><td><b>chunk_type</b></td>\n",
       "<td><b>chunk_name</b></td>\n",
       "<td><b>count</b></td>\n",
       "<td><b>count_percentage</b></td>\n",
       "<td><b>size</b></td>\n",
       "<td><b>size_percentage</b></td></tr>\n",
       "<tr><td>C0L</td>\n",
       "<td>Constant Integers</td>\n",
       "<td>44</td>\n",
       "<td>14.8148149</td>\n",
       "<td>    3.4 KB</td>\n",
       "<td>1.8906130</td></tr>\n",
       "<tr><td>C0D</td>\n",
       "<td>Constant Reals</td>\n",
       "<td>1</td>\n",
       "<td>0.3367003</td>\n",
       "<td>     80  B</td>\n",
       "<td>0.0429685</td></tr>\n",
       "<tr><td>C1</td>\n",
       "<td>1-Byte Integers</td>\n",
       "<td>18</td>\n",
       "<td>6.0606062</td>\n",
       "<td>   10.6 KB</td>\n",
       "<td>5.8469355</td></tr>\n",
       "<tr><td>C1N</td>\n",
       "<td>1-Byte Integers (w/o NAs)</td>\n",
       "<td>88</td>\n",
       "<td>29.6296299</td>\n",
       "<td>   51.8 KB</td>\n",
       "<td>28.4929335</td></tr>\n",
       "<tr><td>C1S</td>\n",
       "<td>1-Byte Fractions</td>\n",
       "<td>42</td>\n",
       "<td>14.1414136</td>\n",
       "<td>   24.9 KB</td>\n",
       "<td>13.6768669</td></tr>\n",
       "<tr><td>C2S</td>\n",
       "<td>2-Byte Fractions</td>\n",
       "<td>68</td>\n",
       "<td>22.8956223</td>\n",
       "<td>   76.9 KB</td>\n",
       "<td>42.3207283</td></tr>\n",
       "<tr><td>CNAXI</td>\n",
       "<td>NA Sparse Integers</td>\n",
       "<td>15</td>\n",
       "<td>5.0505050</td>\n",
       "<td>    3.7 KB</td>\n",
       "<td>2.0549674</td></tr>\n",
       "<tr><td>CNAXD</td>\n",
       "<td>NA Sparse Reals</td>\n",
       "<td>21</td>\n",
       "<td>7.0707068</td>\n",
       "<td>   10.3 KB</td>\n",
       "<td>5.6739874</td></tr></table></div>"
      ],
      "text/plain": [
       "chunk_type    chunk_name                 count    count_percentage    size     size_percentage\n",
       "------------  -------------------------  -------  ------------------  -------  -----------------\n",
       "C0L           Constant Integers          44       14.8148             3.4 KB   1.89061\n",
       "C0D           Constant Reals             1        0.3367              80  B    0.0429685\n",
       "C1            1-Byte Integers            18       6.06061             10.6 KB  5.84694\n",
       "C1N           1-Byte Integers (w/o NAs)  88       29.6296             51.8 KB  28.4929\n",
       "C1S           1-Byte Fractions           42       14.1414             24.9 KB  13.6769\n",
       "C2S           2-Byte Fractions           68       22.8956             76.9 KB  42.3207\n",
       "CNAXI         NA Sparse Integers         15       5.0505              3.7 KB   2.05497\n",
       "CNAXD         NA Sparse Reals            21       7.07071             10.3 KB  5.67399"
      ]
     },
     "metadata": {},
     "output_type": "display_data"
    },
    {
     "name": "stdout",
     "output_type": "stream",
     "text": [
      "Frame distribution summary: \n"
     ]
    },
    {
     "data": {
      "text/html": [
       "<div style=\"overflow:auto\"><table style=\"width:50%\"><tr><td><b></b></td>\n",
       "<td><b>size</b></td>\n",
       "<td><b>number_of_rows</b></td>\n",
       "<td><b>number_of_chunks_per_column</b></td>\n",
       "<td><b>number_of_chunks</b></td></tr>\n",
       "<tr><td>127.0.0.1:54321</td>\n",
       "<td>  181.8 KB</td>\n",
       "<td>17520.0</td>\n",
       "<td>33.0</td>\n",
       "<td>297.0</td></tr>\n",
       "<tr><td>mean</td>\n",
       "<td>  181.8 KB</td>\n",
       "<td>17520.0</td>\n",
       "<td>33.0</td>\n",
       "<td>297.0</td></tr>\n",
       "<tr><td>min</td>\n",
       "<td>  181.8 KB</td>\n",
       "<td>17520.0</td>\n",
       "<td>33.0</td>\n",
       "<td>297.0</td></tr>\n",
       "<tr><td>max</td>\n",
       "<td>  181.8 KB</td>\n",
       "<td>17520.0</td>\n",
       "<td>33.0</td>\n",
       "<td>297.0</td></tr>\n",
       "<tr><td>stddev</td>\n",
       "<td>      0  B</td>\n",
       "<td>0.0</td>\n",
       "<td>0.0</td>\n",
       "<td>0.0</td></tr>\n",
       "<tr><td>total</td>\n",
       "<td>  181.8 KB</td>\n",
       "<td>17520.0</td>\n",
       "<td>33.0</td>\n",
       "<td>297.0</td></tr></table></div>"
      ],
      "text/plain": [
       "                 size      number_of_rows    number_of_chunks_per_column    number_of_chunks\n",
       "---------------  --------  ----------------  -----------------------------  ------------------\n",
       "127.0.0.1:54321  181.8 KB  17520             33                             297\n",
       "mean             181.8 KB  17520             33                             297\n",
       "min              181.8 KB  17520             33                             297\n",
       "max              181.8 KB  17520             33                             297\n",
       "stddev           0  B      0                 0                              0\n",
       "total            181.8 KB  17520             33                             297"
      ]
     },
     "metadata": {},
     "output_type": "display_data"
    },
    {
     "name": "stdout",
     "output_type": "stream",
     "text": [
      "\n",
      "\n"
     ]
    },
    {
     "data": {
      "text/html": [
       "<table>\n",
       "<tr><th>       </th><th>Year Local    </th><th>Month Local  </th><th>Day Local    </th><th>Hour Local   </th><th>Dew Point (C)  </th><th>Humidity Fraction  </th><th>Rain (mm)    </th><th>Temperature (C)  </th><th>WC1  </th></tr>\n",
       "<tr><td>type   </td><td>int           </td><td>int          </td><td>int          </td><td>int          </td><td>real           </td><td>real               </td><td>real         </td><td>real             </td><td>enum </td></tr>\n",
       "<tr><td>mins   </td><td>2013.0        </td><td>1.0          </td><td>1.0          </td><td>0.0          </td><td>-26.7          </td><td>0.1251             </td><td>0.0          </td><td>-15.6            </td><td>0.0  </td></tr>\n",
       "<tr><td>mean   </td><td>2013.5        </td><td>6.52602739726</td><td>15.7205479452</td><td>11.5         </td><td>4.31304646766  </td><td>0.596736389159     </td><td>1.37993010753</td><td>12.5789090701    </td><td>NaN  </td></tr>\n",
       "<tr><td>maxs   </td><td>2014.0        </td><td>12.0         </td><td>31.0         </td><td>23.0         </td><td>24.4           </td><td>1.0                </td><td>26.924       </td><td>36.1             </td><td>11.0 </td></tr>\n",
       "<tr><td>sigma  </td><td>0.500014270017</td><td>3.44794972385</td><td>8.79649804852</td><td>6.92238411188</td><td>10.9731282097  </td><td>0.185792011866     </td><td>2.56215129179</td><td>10.0396739531    </td><td>NaN  </td></tr>\n",
       "<tr><td>zeros  </td><td>0             </td><td>0            </td><td>0            </td><td>730          </td><td>268            </td><td>0                  </td><td>501          </td><td>269              </td><td>17   </td></tr>\n",
       "<tr><td>missing</td><td>0             </td><td>0            </td><td>0            </td><td>0            </td><td>67             </td><td>67                 </td><td>15660        </td><td>67               </td><td>14980</td></tr>\n",
       "<tr><td>0      </td><td>2013.0        </td><td>1.0          </td><td>1.0          </td><td>0.0          </td><td>-5.0           </td><td>0.5447             </td><td>nan          </td><td>3.3              </td><td>     </td></tr>\n",
       "<tr><td>1      </td><td>2013.0        </td><td>1.0          </td><td>1.0          </td><td>1.0          </td><td>-4.4           </td><td>0.5463             </td><td>nan          </td><td>3.9              </td><td>     </td></tr>\n",
       "<tr><td>2      </td><td>2013.0        </td><td>1.0          </td><td>1.0          </td><td>2.0          </td><td>-3.3           </td><td>0.619              </td><td>nan          </td><td>3.3              </td><td>     </td></tr>\n",
       "<tr><td>3      </td><td>2013.0        </td><td>1.0          </td><td>1.0          </td><td>3.0          </td><td>-2.8           </td><td>0.6159             </td><td>nan          </td><td>3.9              </td><td>     </td></tr>\n",
       "<tr><td>4      </td><td>2013.0        </td><td>1.0          </td><td>1.0          </td><td>4.0          </td><td>-2.8           </td><td>0.6159             </td><td>nan          </td><td>3.9              </td><td>     </td></tr>\n",
       "<tr><td>5      </td><td>2013.0        </td><td>1.0          </td><td>1.0          </td><td>5.0          </td><td>-2.8           </td><td>0.6159             </td><td>nan          </td><td>3.9              </td><td>     </td></tr>\n",
       "<tr><td>6      </td><td>2013.0        </td><td>1.0          </td><td>1.0          </td><td>6.0          </td><td>-3.3           </td><td>0.5934             </td><td>nan          </td><td>3.9              </td><td>     </td></tr>\n",
       "<tr><td>7      </td><td>2013.0        </td><td>1.0          </td><td>1.0          </td><td>7.0          </td><td>-3.3           </td><td>0.5934             </td><td>nan          </td><td>3.9              </td><td>     </td></tr>\n",
       "<tr><td>8      </td><td>2013.0        </td><td>1.0          </td><td>1.0          </td><td>8.0          </td><td>-2.8           </td><td>0.6425             </td><td>nan          </td><td>3.3              </td><td>     </td></tr>\n",
       "<tr><td>9      </td><td>2013.0        </td><td>1.0          </td><td>1.0          </td><td>9.0          </td><td>-2.8           </td><td>0.6159             </td><td>nan          </td><td>3.9              </td><td>     </td></tr>\n",
       "</table>"
      ]
     },
     "metadata": {},
     "output_type": "display_data"
    }
   ],
   "source": [
    "# Lots of columns in there!  Lets plan on converting to time-since-epoch to do\n",
    "# a 'join' with the bike data, plus gather weather info that might affect\n",
    "# cyclists - rain, snow, temperature.  Alas, drop the \"snow\" column since it's\n",
    "# all NA's.  Also add in dew point and humidity just in case.  Slice out just\n",
    "# the columns of interest and drop the rest.\n",
    "wthr2 = wthr1[[\"Year Local\", \"Month Local\", \"Day Local\", \"Hour Local\", \"Dew Point (C)\", \"Humidity Fraction\",\n",
    "               \"Precipitation One Hour (mm)\", \"Temperature (C)\", \"Weather Code 1/ Description\"]]\n",
    "\n",
    "wthr2.set_name(wthr2.names.index(\"Precipitation One Hour (mm)\"), \"Rain (mm)\")\n",
    "wthr2.set_name(wthr2.names.index(\"Weather Code 1/ Description\"), \"WC1\")\n",
    "wthr2.describe()\n",
    "# Much better!  "
   ]
  },
  {
   "cell_type": "code",
   "execution_count": 13,
   "metadata": {
    "collapsed": false
   },
   "outputs": [],
   "source": [
    "# Filter down to the weather at Noon\n",
    "wthr3 = wthr2[wthr2[\"Hour Local\"] == 12]"
   ]
  },
  {
   "cell_type": "code",
   "execution_count": 14,
   "metadata": {
    "collapsed": false
   },
   "outputs": [
    {
     "name": "stdout",
     "output_type": "stream",
     "text": [
      "Rows:730 Cols:11\n",
      "Chunk compression summary: \n"
     ]
    },
    {
     "data": {
      "text/html": [
       "<div style=\"overflow:auto\"><table style=\"width:50%\"><tr><td><b>chunk_type</b></td>\n",
       "<td><b>chunk_name</b></td>\n",
       "<td><b>count</b></td>\n",
       "<td><b>count_percentage</b></td>\n",
       "<td><b>size</b></td>\n",
       "<td><b>size_percentage</b></td></tr>\n",
       "<tr><td>C0L</td>\n",
       "<td>Constant Integers</td>\n",
       "<td>78</td>\n",
       "<td>21.4876026</td>\n",
       "<td>    6.1 KB</td>\n",
       "<td>16.9985563</td></tr>\n",
       "<tr><td>C0D</td>\n",
       "<td>Constant Reals</td>\n",
       "<td>7</td>\n",
       "<td>1.9283747</td>\n",
       "<td>    560  B</td>\n",
       "<td>1.5255115</td></tr>\n",
       "<tr><td>C1</td>\n",
       "<td>1-Byte Integers</td>\n",
       "<td>21</td>\n",
       "<td>5.7851240</td>\n",
       "<td>    1.9 KB</td>\n",
       "<td>5.1921871</td></tr>\n",
       "<tr><td>C1N</td>\n",
       "<td>1-Byte Integers (w/o NAs)</td>\n",
       "<td>54</td>\n",
       "<td>14.8760334</td>\n",
       "<td>    4.8 KB</td>\n",
       "<td>13.2910192</td></tr>\n",
       "<tr><td>C1S</td>\n",
       "<td>1-Byte Fractions</td>\n",
       "<td>87</td>\n",
       "<td>23.9669427</td>\n",
       "<td>    9.0 KB</td>\n",
       "<td>25.1273543</td></tr>\n",
       "<tr><td>C2S</td>\n",
       "<td>2-Byte Fractions</td>\n",
       "<td>88</td>\n",
       "<td>24.2424250</td>\n",
       "<td>   11.0 KB</td>\n",
       "<td>30.8098823</td></tr>\n",
       "<tr><td>CNAXI</td>\n",
       "<td>NA Sparse Integers</td>\n",
       "<td>11</td>\n",
       "<td>3.0303031</td>\n",
       "<td>    882  B</td>\n",
       "<td>2.4026806</td></tr>\n",
       "<tr><td>CNAXD</td>\n",
       "<td>NA Sparse Reals</td>\n",
       "<td>14</td>\n",
       "<td>3.8567495</td>\n",
       "<td>    1.2 KB</td>\n",
       "<td>3.3942629</td></tr>\n",
       "<tr><td>CUD</td>\n",
       "<td>Unique Reals</td>\n",
       "<td>3</td>\n",
       "<td>0.8264462</td>\n",
       "<td>    462  B</td>\n",
       "<td>1.2585470</td></tr></table></div>"
      ],
      "text/plain": [
       "chunk_type    chunk_name                 count    count_percentage    size     size_percentage\n",
       "------------  -------------------------  -------  ------------------  -------  -----------------\n",
       "C0L           Constant Integers          78       21.4876             6.1 KB   16.9986\n",
       "C0D           Constant Reals             7        1.92837             560  B   1.52551\n",
       "C1            1-Byte Integers            21       5.78512             1.9 KB   5.19219\n",
       "C1N           1-Byte Integers (w/o NAs)  54       14.876              4.8 KB   13.291\n",
       "C1S           1-Byte Fractions           87       23.9669             9.0 KB   25.1274\n",
       "C2S           2-Byte Fractions           88       24.2424             11.0 KB  30.8099\n",
       "CNAXI         NA Sparse Integers         11       3.0303              882  B   2.40268\n",
       "CNAXD         NA Sparse Reals            14       3.85675             1.2 KB   3.39426\n",
       "CUD           Unique Reals               3        0.826446            462  B   1.25855"
      ]
     },
     "metadata": {},
     "output_type": "display_data"
    },
    {
     "name": "stdout",
     "output_type": "stream",
     "text": [
      "Frame distribution summary: \n"
     ]
    },
    {
     "data": {
      "text/html": [
       "<div style=\"overflow:auto\"><table style=\"width:50%\"><tr><td><b></b></td>\n",
       "<td><b>size</b></td>\n",
       "<td><b>number_of_rows</b></td>\n",
       "<td><b>number_of_chunks_per_column</b></td>\n",
       "<td><b>number_of_chunks</b></td></tr>\n",
       "<tr><td>127.0.0.1:54321</td>\n",
       "<td>   35.8 KB</td>\n",
       "<td>730.0</td>\n",
       "<td>33.0</td>\n",
       "<td>363.0</td></tr>\n",
       "<tr><td>mean</td>\n",
       "<td>   35.8 KB</td>\n",
       "<td>730.0</td>\n",
       "<td>33.0</td>\n",
       "<td>363.0</td></tr>\n",
       "<tr><td>min</td>\n",
       "<td>   35.8 KB</td>\n",
       "<td>730.0</td>\n",
       "<td>33.0</td>\n",
       "<td>363.0</td></tr>\n",
       "<tr><td>max</td>\n",
       "<td>   35.8 KB</td>\n",
       "<td>730.0</td>\n",
       "<td>33.0</td>\n",
       "<td>363.0</td></tr>\n",
       "<tr><td>stddev</td>\n",
       "<td>      0  B</td>\n",
       "<td>0.0</td>\n",
       "<td>0.0</td>\n",
       "<td>0.0</td></tr>\n",
       "<tr><td>total</td>\n",
       "<td>   35.8 KB</td>\n",
       "<td>730.0</td>\n",
       "<td>33.0</td>\n",
       "<td>363.0</td></tr></table></div>"
      ],
      "text/plain": [
       "                 size     number_of_rows    number_of_chunks_per_column    number_of_chunks\n",
       "---------------  -------  ----------------  -----------------------------  ------------------\n",
       "127.0.0.1:54321  35.8 KB  730               33                             363\n",
       "mean             35.8 KB  730               33                             363\n",
       "min              35.8 KB  730               33                             363\n",
       "max              35.8 KB  730               33                             363\n",
       "stddev           0  B     0                 0                              0\n",
       "total            35.8 KB  730               33                             363"
      ]
     },
     "metadata": {},
     "output_type": "display_data"
    },
    {
     "name": "stdout",
     "output_type": "stream",
     "text": [
      "\n",
      "\n"
     ]
    },
    {
     "data": {
      "text/html": [
       "<table>\n",
       "<tr><th>       </th><th>Year Local    </th><th>Month Local  </th><th>Day Local    </th><th>Hour Local  </th><th>Dew Point (C)  </th><th>Humidity Fraction  </th><th>Rain (mm)    </th><th>Temperature (C)  </th><th>WC1  </th><th>msec            </th><th>Days         </th></tr>\n",
       "<tr><td>type   </td><td>int           </td><td>int          </td><td>int          </td><td>int         </td><td>real           </td><td>real               </td><td>real         </td><td>real             </td><td>enum </td><td>int             </td><td>int          </td></tr>\n",
       "<tr><td>mins   </td><td>2013.0        </td><td>1.0          </td><td>1.0          </td><td>12.0        </td><td>-26.7          </td><td>0.1723             </td><td>0.0          </td><td>-13.9            </td><td>0.0  </td><td>1.3570704e+12   </td><td>15706.0      </td></tr>\n",
       "<tr><td>mean   </td><td>2013.5        </td><td>6.52602739726</td><td>15.7205479452</td><td>12.0        </td><td>4.23012379642  </td><td>0.539728198074     </td><td>1.53125714286</td><td>14.0687757909    </td><td>NaN  </td><td>1.3885608526e+12</td><td>16070.5      </td></tr>\n",
       "<tr><td>maxs   </td><td>2014.0        </td><td>12.0         </td><td>31.0         </td><td>12.0        </td><td>23.3           </td><td>1.0                </td><td>12.446       </td><td>34.4             </td><td>10.0 </td><td>1.420056e+12    </td><td>16435.0      </td></tr>\n",
       "<tr><td>sigma  </td><td>0.500342818004</td><td>3.45021529307</td><td>8.80227802701</td><td>0.0         </td><td>11.1062964725  </td><td>0.179945027923     </td><td>2.36064248615</td><td>10.3989855149    </td><td>NaN  </td><td>18219740080.4   </td><td>210.877136425</td></tr>\n",
       "<tr><td>zeros  </td><td>0             </td><td>0            </td><td>0            </td><td>0           </td><td>14             </td><td>0                  </td><td>15           </td><td>7                </td><td>1    </td><td>0               </td><td>0            </td></tr>\n",
       "<tr><td>missing</td><td>0             </td><td>0            </td><td>0            </td><td>0           </td><td>3              </td><td>3                  </td><td>660          </td><td>3                </td><td>620  </td><td>0               </td><td>0            </td></tr>\n",
       "<tr><td>0      </td><td>2013.0        </td><td>1.0          </td><td>1.0          </td><td>12.0        </td><td>-3.3           </td><td>0.5934             </td><td>nan          </td><td>3.9              </td><td>     </td><td>1.3570704e+12   </td><td>15706.0      </td></tr>\n",
       "<tr><td>1      </td><td>2013.0        </td><td>1.0          </td><td>2.0          </td><td>12.0        </td><td>-11.7          </td><td>0.4806             </td><td>nan          </td><td>-2.2             </td><td>     </td><td>1.3571568e+12   </td><td>15707.0      </td></tr>\n",
       "<tr><td>2      </td><td>2013.0        </td><td>1.0          </td><td>3.0          </td><td>12.0        </td><td>-10.6          </td><td>0.5248             </td><td>nan          </td><td>-2.2             </td><td>     </td><td>1.3572432e+12   </td><td>15708.0      </td></tr>\n",
       "<tr><td>3      </td><td>2013.0        </td><td>1.0          </td><td>4.0          </td><td>12.0        </td><td>-7.2           </td><td>0.4976             </td><td>nan          </td><td>2.2              </td><td>     </td><td>1.3573296e+12   </td><td>15709.0      </td></tr>\n",
       "<tr><td>4      </td><td>2013.0        </td><td>1.0          </td><td>5.0          </td><td>12.0        </td><td>-7.2           </td><td>0.426              </td><td>nan          </td><td>4.4              </td><td>     </td><td>1.357416e+12    </td><td>15710.0      </td></tr>\n",
       "<tr><td>5      </td><td>2013.0        </td><td>1.0          </td><td>6.0          </td><td>12.0        </td><td>-1.7           </td><td>0.6451             </td><td>nan          </td><td>4.4              </td><td>haze </td><td>1.3575024e+12   </td><td>15711.0      </td></tr>\n",
       "<tr><td>6      </td><td>2013.0        </td><td>1.0          </td><td>7.0          </td><td>12.0        </td><td>-6.1           </td><td>0.4119             </td><td>nan          </td><td>6.1              </td><td>     </td><td>1.3575888e+12   </td><td>15712.0      </td></tr>\n",
       "<tr><td>7      </td><td>2013.0        </td><td>1.0          </td><td>8.0          </td><td>12.0        </td><td>-1.7           </td><td>0.5314             </td><td>nan          </td><td>7.2              </td><td>     </td><td>1.3576752e+12   </td><td>15713.0      </td></tr>\n",
       "<tr><td>8      </td><td>2013.0        </td><td>1.0          </td><td>9.0          </td><td>12.0        </td><td>0.6            </td><td>0.56               </td><td>nan          </td><td>8.9              </td><td>haze </td><td>1.3577616e+12   </td><td>15714.0      </td></tr>\n",
       "<tr><td>9      </td><td>2013.0        </td><td>1.0          </td><td>10.0         </td><td>12.0        </td><td>-6.1           </td><td>0.3952             </td><td>nan          </td><td>6.7              </td><td>     </td><td>1.357848e+12    </td><td>15715.0      </td></tr>\n",
       "</table>"
      ]
     },
     "metadata": {},
     "output_type": "display_data"
    }
   ],
   "source": [
    "# Lets now get Days since the epoch... we'll convert year/month/day into Epoch\n",
    "# time, and then back to Epoch days.  Need zero-based month and days, but have\n",
    "# 1-based.\n",
    "wthr3[\"msec\"] = h2o.H2OFrame.mktime(year=wthr3[\"Year Local\"], month=wthr3[\"Month Local\"] - 1, \n",
    "                                    day=wthr3[\"Day Local\"] - 1, hour=wthr3[\"Hour Local\"])\n",
    "secsPerDay = 1000 * 60 * 60 * 24\n",
    "wthr3[\"Days\"] = (wthr3[\"msec\"] / secsPerDay).floor()\n",
    "wthr3.describe()\n",
    "# msec looks sane (numbers like 1.3e12 are in the correct range for msec since\n",
    "# 1970).  Epoch Days matches closely with the epoch day numbers from the\n",
    "# CitiBike dataset.  "
   ]
  },
  {
   "cell_type": "code",
   "execution_count": 15,
   "metadata": {
    "collapsed": false
   },
   "outputs": [],
   "source": [
    "# Lets drop off the extra time columns to make a easy-to-handle dataset.\n",
    "wthr4 = wthr3.drop(\"Year Local\").drop(\"Month Local\").drop(\"Day Local\").drop(\"Hour Local\").drop(\"msec\")"
   ]
  },
  {
   "cell_type": "code",
   "execution_count": 16,
   "metadata": {
    "collapsed": false
   },
   "outputs": [],
   "source": [
    "# Also, most rain numbers are missing - lets assume those are zero rain days\n",
    "rain = wthr4[\"Rain (mm)\"]\n",
    "rain[rain.isna()] = 0\n",
    "wthr4[\"Rain (mm)\"] = rain"
   ]
  },
  {
   "cell_type": "code",
   "execution_count": 17,
   "metadata": {
    "collapsed": false
   },
   "outputs": [
    {
     "name": "stdout",
     "output_type": "stream",
     "text": [
      "Merge Daily Weather with Bikes-Per-Day\n",
      "Rows:10,450 Cols:10\n",
      "Chunk compression summary: \n"
     ]
    },
    {
     "data": {
      "text/html": [
       "<div style=\"overflow:auto\"><table style=\"width:50%\"><tr><td><b>chunk_type</b></td>\n",
       "<td><b>chunk_name</b></td>\n",
       "<td><b>count</b></td>\n",
       "<td><b>count_percentage</b></td>\n",
       "<td><b>size</b></td>\n",
       "<td><b>size_percentage</b></td></tr>\n",
       "<tr><td>C0L</td>\n",
       "<td>Constant Integers</td>\n",
       "<td>64</td>\n",
       "<td>20.0000003</td>\n",
       "<td>    5.0 KB</td>\n",
       "<td>3.5199165</td></tr>\n",
       "<tr><td>C0D</td>\n",
       "<td>Constant Reals</td>\n",
       "<td>33</td>\n",
       "<td>10.3124999</td>\n",
       "<td>    2.6 KB</td>\n",
       "<td>1.8149570</td></tr>\n",
       "<tr><td>CBS</td>\n",
       "<td>Bits</td>\n",
       "<td>6</td>\n",
       "<td>1.8750001</td>\n",
       "<td>    666  B</td>\n",
       "<td>0.4578641</td></tr>\n",
       "<tr><td>CXI</td>\n",
       "<td>Zero Sparse Integers</td>\n",
       "<td>4</td>\n",
       "<td>1.2500000</td>\n",
       "<td>    800  B</td>\n",
       "<td>0.5499870</td></tr>\n",
       "<tr><td>C1</td>\n",
       "<td>1-Byte Integers</td>\n",
       "<td>2</td>\n",
       "<td>0.6250000</td>\n",
       "<td>    788  B</td>\n",
       "<td>0.5417371</td></tr>\n",
       "<tr><td>C1N</td>\n",
       "<td>1-Byte Integers (w/o NAs)</td>\n",
       "<td>24</td>\n",
       "<td>7.5000003</td>\n",
       "<td>    9.3 KB</td>\n",
       "<td>6.5255947</td></tr>\n",
       "<tr><td>C1S</td>\n",
       "<td>1-Byte Fractions</td>\n",
       "<td>31</td>\n",
       "<td>9.6874997</td>\n",
       "<td>   12.4 KB</td>\n",
       "<td>8.7502919</td></tr>\n",
       "<tr><td>C2</td>\n",
       "<td>2-Byte Integers</td>\n",
       "<td>63</td>\n",
       "<td>19.6875006</td>\n",
       "<td>   44.3 KB</td>\n",
       "<td>31.2090099</td></tr>\n",
       "<tr><td>CNAXI</td>\n",
       "<td>NA Sparse Integers</td>\n",
       "<td>2</td>\n",
       "<td>0.6250000</td>\n",
       "<td>    372  B</td>\n",
       "<td>0.2557439</td></tr>\n",
       "<tr><td>CXD</td>\n",
       "<td>Zero Sparse Reals</td>\n",
       "<td>1</td>\n",
       "<td>0.3125000</td>\n",
       "<td>    424  B</td>\n",
       "<td>0.2914931</td></tr>\n",
       "<tr><td>CUD</td>\n",
       "<td>Unique Reals</td>\n",
       "<td>90</td>\n",
       "<td>28.125</td>\n",
       "<td>   65.5 KB</td>\n",
       "<td>46.0834056</td></tr></table></div>"
      ],
      "text/plain": [
       "chunk_type    chunk_name                 count    count_percentage    size     size_percentage\n",
       "------------  -------------------------  -------  ------------------  -------  -----------------\n",
       "C0L           Constant Integers          64       20                  5.0 KB   3.51992\n",
       "C0D           Constant Reals             33       10.3125             2.6 KB   1.81496\n",
       "CBS           Bits                       6        1.875               666  B   0.457864\n",
       "CXI           Zero Sparse Integers       4        1.25                800  B   0.549987\n",
       "C1            1-Byte Integers            2        0.625               788  B   0.541737\n",
       "C1N           1-Byte Integers (w/o NAs)  24       7.5                 9.3 KB   6.52559\n",
       "C1S           1-Byte Fractions           31       9.6875              12.4 KB  8.75029\n",
       "C2            2-Byte Integers            63       19.6875             44.3 KB  31.209\n",
       "CNAXI         NA Sparse Integers         2        0.625               372  B   0.255744\n",
       "CXD           Zero Sparse Reals          1        0.3125              424  B   0.291493\n",
       "CUD           Unique Reals               90       28.125              65.5 KB  46.0834"
      ]
     },
     "metadata": {},
     "output_type": "display_data"
    },
    {
     "name": "stdout",
     "output_type": "stream",
     "text": [
      "Frame distribution summary: \n"
     ]
    },
    {
     "data": {
      "text/html": [
       "<div style=\"overflow:auto\"><table style=\"width:50%\"><tr><td><b></b></td>\n",
       "<td><b>size</b></td>\n",
       "<td><b>number_of_rows</b></td>\n",
       "<td><b>number_of_chunks_per_column</b></td>\n",
       "<td><b>number_of_chunks</b></td></tr>\n",
       "<tr><td>127.0.0.1:54321</td>\n",
       "<td>  142.0 KB</td>\n",
       "<td>10450.0</td>\n",
       "<td>32.0</td>\n",
       "<td>320.0</td></tr>\n",
       "<tr><td>mean</td>\n",
       "<td>  142.0 KB</td>\n",
       "<td>10450.0</td>\n",
       "<td>32.0</td>\n",
       "<td>320.0</td></tr>\n",
       "<tr><td>min</td>\n",
       "<td>  142.0 KB</td>\n",
       "<td>10450.0</td>\n",
       "<td>32.0</td>\n",
       "<td>320.0</td></tr>\n",
       "<tr><td>max</td>\n",
       "<td>  142.0 KB</td>\n",
       "<td>10450.0</td>\n",
       "<td>32.0</td>\n",
       "<td>320.0</td></tr>\n",
       "<tr><td>stddev</td>\n",
       "<td>      0  B</td>\n",
       "<td>0.0</td>\n",
       "<td>0.0</td>\n",
       "<td>0.0</td></tr>\n",
       "<tr><td>total</td>\n",
       "<td>  142.0 KB</td>\n",
       "<td>10450.0</td>\n",
       "<td>32.0</td>\n",
       "<td>320.0</td></tr></table></div>"
      ],
      "text/plain": [
       "                 size      number_of_rows    number_of_chunks_per_column    number_of_chunks\n",
       "---------------  --------  ----------------  -----------------------------  ------------------\n",
       "127.0.0.1:54321  142.0 KB  10450             32                             320\n",
       "mean             142.0 KB  10450             32                             320\n",
       "min              142.0 KB  10450             32                             320\n",
       "max              142.0 KB  10450             32                             320\n",
       "stddev           0  B      0                 0                              0\n",
       "total            142.0 KB  10450             32                             320"
      ]
     },
     "metadata": {},
     "output_type": "display_data"
    },
    {
     "name": "stdout",
     "output_type": "stream",
     "text": [
      "\n",
      "\n"
     ]
    },
    {
     "data": {
      "text/html": [
       "<table>\n",
       "<tr><th>       </th><th>Days         </th><th>start station name     </th><th>bikes        </th><th>Month         </th><th>DayOfWeek  </th><th>Dew Point (C)  </th><th>Humidity Fraction  </th><th>Rain (mm)       </th><th>Temperature (C)  </th><th>WC1  </th></tr>\n",
       "<tr><td>type   </td><td>int          </td><td>enum                   </td><td>int          </td><td>enum          </td><td>enum       </td><td>real           </td><td>real               </td><td>real            </td><td>real             </td><td>enum </td></tr>\n",
       "<tr><td>mins   </td><td>15979.0      </td><td>0.0                    </td><td>1.0          </td><td>0.0           </td><td>0.0        </td><td>-2.2           </td><td>0.3485             </td><td>0.0             </td><td>9.4              </td><td>2.0  </td></tr>\n",
       "<tr><td>mean   </td><td>15994.4415311</td><td>NaN                    </td><td>99.3025837321</td><td>0.968612440191</td><td>NaN        </td><td>7.77999043062  </td><td>0.562374191388     </td><td>0.00794813397129</td><td>16.9630717703    </td><td>NaN  </td></tr>\n",
       "<tr><td>maxs   </td><td>16010.0      </td><td>329.0                  </td><td>553.0        </td><td>1.0           </td><td>6.0        </td><td>19.4           </td><td>0.8718             </td><td>0.254           </td><td>26.1             </td><td>8.0  </td></tr>\n",
       "<tr><td>sigma  </td><td>9.23370172444</td><td>NaN                    </td><td>72.9721964301</td><td>0.174371128617</td><td>NaN        </td><td>6.49151146664  </td><td>0.149631413472     </td><td>0.0442248839098 </td><td>4.29746634617    </td><td>NaN  </td></tr>\n",
       "<tr><td>zeros  </td><td>0            </td><td>32                     </td><td>0            </td><td>328           </td><td>1635       </td><td>0              </td><td>0                  </td><td>10123           </td><td>0                </td><td>0    </td></tr>\n",
       "<tr><td>missing</td><td>0            </td><td>0                      </td><td>0            </td><td>0             </td><td>0          </td><td>0              </td><td>0                  </td><td>0               </td><td>0                </td><td>9134 </td></tr>\n",
       "<tr><td>0      </td><td>15979.0      </td><td>1 Ave & E 15 St        </td><td>97.0         </td><td>9             </td><td>Mon        </td><td>10.6           </td><td>0.4315             </td><td>0.0             </td><td>23.9             </td><td>     </td></tr>\n",
       "<tr><td>1      </td><td>15979.0      </td><td>1 Ave & E 18 St        </td><td>75.0         </td><td>9             </td><td>Mon        </td><td>10.6           </td><td>0.4315             </td><td>0.0             </td><td>23.9             </td><td>     </td></tr>\n",
       "<tr><td>2      </td><td>15979.0      </td><td>1 Ave & E 30 St        </td><td>113.0        </td><td>9             </td><td>Mon        </td><td>10.6           </td><td>0.4315             </td><td>0.0             </td><td>23.9             </td><td>     </td></tr>\n",
       "<tr><td>3      </td><td>15979.0      </td><td>10 Ave & W 28 St       </td><td>74.0         </td><td>9             </td><td>Mon        </td><td>10.6           </td><td>0.4315             </td><td>0.0             </td><td>23.9             </td><td>     </td></tr>\n",
       "<tr><td>4      </td><td>15979.0      </td><td>11 Ave & W 27 St       </td><td>139.0        </td><td>9             </td><td>Mon        </td><td>10.6           </td><td>0.4315             </td><td>0.0             </td><td>23.9             </td><td>     </td></tr>\n",
       "<tr><td>5      </td><td>15979.0      </td><td>11 Ave & W 41 St       </td><td>60.0         </td><td>9             </td><td>Mon        </td><td>10.6           </td><td>0.4315             </td><td>0.0             </td><td>23.9             </td><td>     </td></tr>\n",
       "<tr><td>6      </td><td>15979.0      </td><td>12 Ave & W 40 St       </td><td>90.0         </td><td>9             </td><td>Mon        </td><td>10.6           </td><td>0.4315             </td><td>0.0             </td><td>23.9             </td><td>     </td></tr>\n",
       "<tr><td>7      </td><td>15979.0      </td><td>2 Ave & E 31 St        </td><td>88.0         </td><td>9             </td><td>Mon        </td><td>10.6           </td><td>0.4315             </td><td>0.0             </td><td>23.9             </td><td>     </td></tr>\n",
       "<tr><td>8      </td><td>15979.0      </td><td>2 Ave & E 58 St        </td><td>55.0         </td><td>9             </td><td>Mon        </td><td>10.6           </td><td>0.4315             </td><td>0.0             </td><td>23.9             </td><td>     </td></tr>\n",
       "<tr><td>9      </td><td>15979.0      </td><td>3 Ave & Schermerhorn St</td><td>8.0          </td><td>9             </td><td>Mon        </td><td>10.6           </td><td>0.4315             </td><td>0.0             </td><td>23.9             </td><td>     </td></tr>\n",
       "</table>"
      ]
     },
     "metadata": {},
     "output_type": "display_data"
    },
    {
     "data": {
      "text/html": [
       "<table>\n",
       "<tr><th style=\"text-align: right;\">  Days</th><th>start station name     </th><th style=\"text-align: right;\">  bikes</th><th style=\"text-align: right;\">  Month</th><th>DayOfWeek  </th><th style=\"text-align: right;\">  Dew Point (C)</th><th style=\"text-align: right;\">  Humidity Fraction</th><th style=\"text-align: right;\">  Rain (mm)</th><th style=\"text-align: right;\">  Temperature (C)</th><th>WC1  </th></tr>\n",
       "<tr><td style=\"text-align: right;\"> 15979</td><td>1 Ave & E 15 St        </td><td style=\"text-align: right;\">     97</td><td style=\"text-align: right;\">      9</td><td>Mon        </td><td style=\"text-align: right;\">           10.6</td><td style=\"text-align: right;\">             0.4315</td><td style=\"text-align: right;\">          0</td><td style=\"text-align: right;\">             23.9</td><td>     </td></tr>\n",
       "<tr><td style=\"text-align: right;\"> 15979</td><td>1 Ave & E 18 St        </td><td style=\"text-align: right;\">     75</td><td style=\"text-align: right;\">      9</td><td>Mon        </td><td style=\"text-align: right;\">           10.6</td><td style=\"text-align: right;\">             0.4315</td><td style=\"text-align: right;\">          0</td><td style=\"text-align: right;\">             23.9</td><td>     </td></tr>\n",
       "<tr><td style=\"text-align: right;\"> 15979</td><td>1 Ave & E 30 St        </td><td style=\"text-align: right;\">    113</td><td style=\"text-align: right;\">      9</td><td>Mon        </td><td style=\"text-align: right;\">           10.6</td><td style=\"text-align: right;\">             0.4315</td><td style=\"text-align: right;\">          0</td><td style=\"text-align: right;\">             23.9</td><td>     </td></tr>\n",
       "<tr><td style=\"text-align: right;\"> 15979</td><td>10 Ave & W 28 St       </td><td style=\"text-align: right;\">     74</td><td style=\"text-align: right;\">      9</td><td>Mon        </td><td style=\"text-align: right;\">           10.6</td><td style=\"text-align: right;\">             0.4315</td><td style=\"text-align: right;\">          0</td><td style=\"text-align: right;\">             23.9</td><td>     </td></tr>\n",
       "<tr><td style=\"text-align: right;\"> 15979</td><td>11 Ave & W 27 St       </td><td style=\"text-align: right;\">    139</td><td style=\"text-align: right;\">      9</td><td>Mon        </td><td style=\"text-align: right;\">           10.6</td><td style=\"text-align: right;\">             0.4315</td><td style=\"text-align: right;\">          0</td><td style=\"text-align: right;\">             23.9</td><td>     </td></tr>\n",
       "<tr><td style=\"text-align: right;\"> 15979</td><td>11 Ave & W 41 St       </td><td style=\"text-align: right;\">     60</td><td style=\"text-align: right;\">      9</td><td>Mon        </td><td style=\"text-align: right;\">           10.6</td><td style=\"text-align: right;\">             0.4315</td><td style=\"text-align: right;\">          0</td><td style=\"text-align: right;\">             23.9</td><td>     </td></tr>\n",
       "<tr><td style=\"text-align: right;\"> 15979</td><td>12 Ave & W 40 St       </td><td style=\"text-align: right;\">     90</td><td style=\"text-align: right;\">      9</td><td>Mon        </td><td style=\"text-align: right;\">           10.6</td><td style=\"text-align: right;\">             0.4315</td><td style=\"text-align: right;\">          0</td><td style=\"text-align: right;\">             23.9</td><td>     </td></tr>\n",
       "<tr><td style=\"text-align: right;\"> 15979</td><td>2 Ave & E 31 St        </td><td style=\"text-align: right;\">     88</td><td style=\"text-align: right;\">      9</td><td>Mon        </td><td style=\"text-align: right;\">           10.6</td><td style=\"text-align: right;\">             0.4315</td><td style=\"text-align: right;\">          0</td><td style=\"text-align: right;\">             23.9</td><td>     </td></tr>\n",
       "<tr><td style=\"text-align: right;\"> 15979</td><td>2 Ave & E 58 St        </td><td style=\"text-align: right;\">     55</td><td style=\"text-align: right;\">      9</td><td>Mon        </td><td style=\"text-align: right;\">           10.6</td><td style=\"text-align: right;\">             0.4315</td><td style=\"text-align: right;\">          0</td><td style=\"text-align: right;\">             23.9</td><td>     </td></tr>\n",
       "<tr><td style=\"text-align: right;\"> 15979</td><td>3 Ave & Schermerhorn St</td><td style=\"text-align: right;\">      8</td><td style=\"text-align: right;\">      9</td><td>Mon        </td><td style=\"text-align: right;\">           10.6</td><td style=\"text-align: right;\">             0.4315</td><td style=\"text-align: right;\">          0</td><td style=\"text-align: right;\">             23.9</td><td>     </td></tr>\n",
       "</table>"
      ]
     },
     "metadata": {},
     "output_type": "display_data"
    }
   ],
   "source": [
    "# ----------\n",
    "# 6 - Join the weather data-per-day to the bike-starts-per-day\n",
    "print(\"Merge Daily Weather with Bikes-Per-Day\")\n",
    "bpd_with_weather = bpd.merge(wthr4, all_x=True, all_y=False)\n",
    "bpd_with_weather.describe()\n",
    "bpd_with_weather.show()"
   ]
  },
  {
   "cell_type": "code",
   "execution_count": 18,
   "metadata": {
    "collapsed": false
   },
   "outputs": [
    {
     "name": "stdout",
     "output_type": "stream",
     "text": [
      "Training data has 10 columns and 6200 rows, test has 3169 rows, holdout has 1081\n",
      "gbm Model Build progress: |███████████████████████████████████████████████████████████████████| 100%\n",
      "drf Model Build progress: |███████████████████████████████████████████████████████████████████| 100%\n",
      "glm Model Build progress: |███████████████████████████████████████████████████████████████████| 100%\n",
      "deeplearning Model Build progress: |██████████████████████████████████████████████████████████| 100%\n"
     ]
    },
    {
     "data": {
      "text/html": [
       "<div style=\"overflow:auto\"><table style=\"width:50%\"><tr><td><b>Model</b></td>\n",
       "<td><b>mse TRAIN</b></td>\n",
       "<td><b>mse TEST</b></td>\n",
       "<td><b>mse HOLDOUT</b></td>\n",
       "<td><b>Model Training Time (s)</b></td></tr>\n",
       "<tr><td>GBM</td>\n",
       "<td>49.7116910</td>\n",
       "<td>419.8720174</td>\n",
       "<td>410.5695314</td>\n",
       "<td>7.269</td></tr>\n",
       "<tr><td>DRF</td>\n",
       "<td>650.3114403</td>\n",
       "<td>1149.0162553</td>\n",
       "<td>1252.8437471</td>\n",
       "<td>17.941</td></tr>\n",
       "<tr><td>GLM</td>\n",
       "<td>691.6546957</td>\n",
       "<td>793.8077896</td>\n",
       "<td>795.1698966</td>\n",
       "<td>7.959</td></tr>\n",
       "<tr><td>DL</td>\n",
       "<td>249.9157275</td>\n",
       "<td>503.6839407</td>\n",
       "<td>509.1793580</td>\n",
       "<td>7.958</td></tr></table></div>"
      ],
      "text/plain": [
       "Model      mse TRAIN    mse TEST    mse HOLDOUT    Model Training Time (s)\n",
       "-------  -----------  ----------  -------------  -------------------------\n",
       "GBM          49.7117     419.872        410.57                       7.269\n",
       "DRF         650.311     1149.02        1252.84                      17.941\n",
       "GLM         691.655      793.808        795.17                       7.959\n",
       "DL          249.916      503.684        509.179                      7.958"
      ]
     },
     "metadata": {},
     "output_type": "display_data"
    }
   ],
   "source": [
    "# 7 - Test/Train split again, model build again, this time with weather\n",
    "split_fit_predict(bpd_with_weather)"
   ]
  }
 ],
 "metadata": {
  "kernelspec": {
   "display_name": "Python 2",
   "language": "python",
   "name": "python2"
  },
  "language_info": {
   "codemirror_mode": {
    "name": "ipython",
    "version": 2
   },
   "file_extension": ".py",
   "mimetype": "text/x-python",
   "name": "python",
   "nbconvert_exporter": "python",
   "pygments_lexer": "ipython2",
   "version": "2.7.12"
  }
 },
 "nbformat": 4,
 "nbformat_minor": 0
}
